{
 "cells": [
  {
   "cell_type": "markdown",
   "metadata": {},
   "source": [
    "Olá, Filipe!\n",
    "\n",
    "Meu nome é Ramon e te ajudarei neste projeto. Fico feliz em rever seu projeto hoje.\n",
    "\n",
    "Ao ao longo do texto farei algumas observações sobre melhorias no código e também farei comentários sobre suas percepções sobre o assunto. Estarei aberta a feedbacks e discussões sobre o tema.\n",
    "\n",
    "Você encontrará meus comentários abaixo - **por favor, não os mova, modifique ou exclua**.\n",
    "\n",
    "Você pode encontrar meus comentários em caixas verdes, amarelas ou vermelhas como esta:\n",
    "\n",
    "<div class=\"alert alert-block alert-success\">\n",
    "<b> Comentário do revisor: </b> <a class=\"tocSkip\"></a>\n",
    "\n",
    "Sucesso. Tudo foi feito corretamente.\n",
    "</div>\n",
    "\n",
    "<div class=\"alert alert-block alert-warning\">\n",
    "<b>Comentário do revisor: </b> <a class=\"tocSkip\"></a>\n",
    "\n",
    "Observações. Algumas recomendações.\n",
    "</div>\n",
    "\n",
    "<div class=\"alert alert-block alert-danger\">\n",
    "\n",
    "<b>Comentário do revisor: </b> <a class=\"tocSkip\"></a>\n",
    "    \n",
    "Precisa de correções. O bloqueio requer algumas correções. O trabalho não pode ser aceito com os comentários em vermelho.\n",
    "</div>\n",
    "\n",
    "Você pode me responder usando isso:\n",
    "\n",
    "<div class=\"alert alert-block alert-info\">\n",
    "<b>Resposta do Aluno.</b> <a class=\"tocSkip\"></a>\n",
    "</div>"
   ]
  },
  {
   "cell_type": "markdown",
   "metadata": {
    "id": "E0vqbgi9ay0H"
   },
   "source": [
    "# Yandex.Music"
   ]
  },
  {
   "cell_type": "markdown",
   "metadata": {
    "id": "fhq_eyov_Zcs"
   },
   "source": [
    "# Contents <a id='back'></a>\n",
    "\n",
    "* [Introdução](#intro)\n",
    "* [Etapa 1. Visão geral dos dados](#data_review)\n",
    "    * [Conclusões](#data_review_conclusions)\n",
    "* [Etapa 2. Pré-processamento de dados](#data_preprocessing)\n",
    "    * [2.1 Estilo do cabeçalho](#header_style)\n",
    "    * [2.2 Valores ausentes](#missing_values)\n",
    "    * [2.3 Duplicatas](#duplicates)\n",
    "    * [2.4 Conclusões](#data_preprocessing_conclusions)\n",
    "* [Etapa 3. Testando as hipóteses](#hypotheses)\n",
    "    * [3.1 Hipótese 1: comparando o comportamento dos usuários em duas cidades](#activity)\n",
    "    * [3.2 Hipótese 2: música no começo e no fim da semana](#week)\n",
    "    * [3.3 Hipótese 3: preferências em Springfield e Shelbyville](#genre)\n",
    "* [Conclusões](#end)"
   ]
  },
  {
   "cell_type": "markdown",
   "metadata": {
    "id": "VUC88oWjTJw2"
   },
   "source": [
    "## Introdução <a id='intro'></a>\n",
    "Sempre que fazemos uma pesquisa, precisamos formular uma hipótese que depois poderemos testar. Às vezes nós aceitamos essas hipóteses; outras vezes, nós as rejeitamos. Para fazer as escolhas certas, um negócio deve ser capaz de entender se está fazendo as suposições certas ou não.\n",
    "\n",
    "Neste projeto, você vai comparar as preferências musicais dos habitantes de Springfild e Shelbyville. Você estudará dados reais do Yandex.Music para testar a hipótese abaixo e comparar o comportamento do usuário para essas duas cidades.\n",
    "\n",
    "### Objetivo: \n",
    "Teste três hipóteses:\n",
    "1. A atividade dos usuários é diferente dependendo do dia da semana e da cidade. \n",
    "2. Durante as manhãs de segunda-feira, os moradores de Springfield e Shelbyville escutam diferentes gêneros. Isso também é verdadeiro para noites de sexta-feira. \n",
    "3. Os ouvintes de Springfield e Shelbyville têm diferentes preferências. Em Springfield, as pessoas preferem pop, enquanto Shelbyville tem mais fãs de rap.\n",
    "\n",
    "### Etapas \n",
    "Os dados sobre o comportamento do usuário é armazenado no arquivo `/datasets/music_project_en.csv`. Não há informação sobre a qualidade dos dados, então, você precisará examiná-los antes de testar a hipótese. \n",
    "\n",
    "Primeiro, você avaliará a qualidade dos dados e ver se seus problemas são significativos. Depois, durante o pré-processamento de dados, você tentará dar conta dos problemas mais críticos problemas.\n",
    " \n",
    "O seu projeto consistirá em três etapas:\n",
    " 1. Visão geral dos dados\n",
    " 2. Pré-processamento de dados\n",
    " 3. Testando as hipóteses\n",
    " \n",
    "[Voltar ao Índice](#back)"
   ]
  },
  {
   "cell_type": "markdown",
   "metadata": {
    "id": "Ml1hmfXC_Zcs"
   },
   "source": [
    "## Etapa 1. Visão geral dos dados <a id='data_review'></a>\n",
    "\n",
    "Abra os dados em Yandex.Music e explore-os."
   ]
  },
  {
   "cell_type": "markdown",
   "metadata": {
    "id": "57eAOGIz_Zcs"
   },
   "source": [
    "Você precisará de `pandas`, então, importe-a."
   ]
  },
  {
   "cell_type": "code",
   "execution_count": 1,
   "metadata": {
    "id": "AXN7PHPN_Zcs"
   },
   "outputs": [],
   "source": [
    "# importando pandas\n",
    "import pandas as pd"
   ]
  },
  {
   "cell_type": "markdown",
   "metadata": {},
   "source": [
    "<div class=\"alert alert-block alert-success\">\n",
    "<b> Comentário do revisor: </b> <a class=\"tocSkip\"></a>\n",
    "\n",
    "Correto\n",
    "</div>"
   ]
  },
  {
   "cell_type": "markdown",
   "metadata": {
    "id": "SG23P8tt_Zcs"
   },
   "source": [
    "Leia o arquivo `music_project_en.csv` da pasta `/datasets/` e salve-o na variável `df`:"
   ]
  },
  {
   "cell_type": "code",
   "execution_count": 2,
   "metadata": {},
   "outputs": [],
   "source": [
    "df = pd.read_csv('/datasets/music_project_en.csv')"
   ]
  },
  {
   "cell_type": "markdown",
   "metadata": {},
   "source": [
    "<div class=\"alert alert-block alert-success\">\n",
    "<b> Comentário do revisor: </b> <a class=\"tocSkip\"></a>\n",
    "\n",
    "Correto\n",
    "</div>"
   ]
  },
  {
   "cell_type": "code",
   "execution_count": 3,
   "metadata": {
    "id": "fFVu7vqh_Zct"
   },
   "outputs": [
    {
     "data": {
      "text/html": [
       "<div>\n",
       "<style scoped>\n",
       "    .dataframe tbody tr th:only-of-type {\n",
       "        vertical-align: middle;\n",
       "    }\n",
       "\n",
       "    .dataframe tbody tr th {\n",
       "        vertical-align: top;\n",
       "    }\n",
       "\n",
       "    .dataframe thead th {\n",
       "        text-align: right;\n",
       "    }\n",
       "</style>\n",
       "<table border=\"1\" class=\"dataframe\">\n",
       "  <thead>\n",
       "    <tr style=\"text-align: right;\">\n",
       "      <th></th>\n",
       "      <th>userID</th>\n",
       "      <th>Track</th>\n",
       "      <th>artist</th>\n",
       "      <th>genre</th>\n",
       "      <th>City</th>\n",
       "      <th>time</th>\n",
       "      <th>Day</th>\n",
       "    </tr>\n",
       "  </thead>\n",
       "  <tbody>\n",
       "    <tr>\n",
       "      <th>count</th>\n",
       "      <td>65079</td>\n",
       "      <td>63736</td>\n",
       "      <td>57512</td>\n",
       "      <td>63881</td>\n",
       "      <td>65079</td>\n",
       "      <td>65079</td>\n",
       "      <td>65079</td>\n",
       "    </tr>\n",
       "    <tr>\n",
       "      <th>unique</th>\n",
       "      <td>41748</td>\n",
       "      <td>39666</td>\n",
       "      <td>37806</td>\n",
       "      <td>268</td>\n",
       "      <td>2</td>\n",
       "      <td>20392</td>\n",
       "      <td>3</td>\n",
       "    </tr>\n",
       "    <tr>\n",
       "      <th>top</th>\n",
       "      <td>A8AE9169</td>\n",
       "      <td>Brand</td>\n",
       "      <td>Kartvelli</td>\n",
       "      <td>pop</td>\n",
       "      <td>Springfield</td>\n",
       "      <td>21:51:22</td>\n",
       "      <td>Friday</td>\n",
       "    </tr>\n",
       "    <tr>\n",
       "      <th>freq</th>\n",
       "      <td>76</td>\n",
       "      <td>136</td>\n",
       "      <td>136</td>\n",
       "      <td>8850</td>\n",
       "      <td>45360</td>\n",
       "      <td>14</td>\n",
       "      <td>23149</td>\n",
       "    </tr>\n",
       "  </tbody>\n",
       "</table>\n",
       "</div>"
      ],
      "text/plain": [
       "          userID  Track     artist  genre       City        time     Day\n",
       "count      65079  63736      57512  63881        65079     65079   65079\n",
       "unique     41748  39666      37806    268            2     20392       3\n",
       "top     A8AE9169  Brand  Kartvelli    pop  Springfield  21:51:22  Friday\n",
       "freq          76    136        136   8850        45360        14   23149"
      ]
     },
     "execution_count": 3,
     "metadata": {},
     "output_type": "execute_result"
    }
   ],
   "source": [
    "# lendo o arquivo e armazenando em df\n",
    "df.describe()"
   ]
  },
  {
   "cell_type": "markdown",
   "metadata": {},
   "source": [
    "<div class=\"alert alert-block alert-success\">\n",
    "<b> Comentário do revisor: </b> <a class=\"tocSkip\"></a>\n",
    "\n",
    "Correto\n",
    "</div>"
   ]
  },
  {
   "cell_type": "markdown",
   "metadata": {
    "id": "rDoOMd3uTqnZ"
   },
   "source": [
    "Exiba as primeiras 10 linhas da tabela:"
   ]
  },
  {
   "cell_type": "code",
   "execution_count": 4,
   "metadata": {
    "id": "oWTVX3gW_Zct"
   },
   "outputs": [
    {
     "data": {
      "text/html": [
       "<div>\n",
       "<style scoped>\n",
       "    .dataframe tbody tr th:only-of-type {\n",
       "        vertical-align: middle;\n",
       "    }\n",
       "\n",
       "    .dataframe tbody tr th {\n",
       "        vertical-align: top;\n",
       "    }\n",
       "\n",
       "    .dataframe thead th {\n",
       "        text-align: right;\n",
       "    }\n",
       "</style>\n",
       "<table border=\"1\" class=\"dataframe\">\n",
       "  <thead>\n",
       "    <tr style=\"text-align: right;\">\n",
       "      <th></th>\n",
       "      <th>userID</th>\n",
       "      <th>Track</th>\n",
       "      <th>artist</th>\n",
       "      <th>genre</th>\n",
       "      <th>City</th>\n",
       "      <th>time</th>\n",
       "      <th>Day</th>\n",
       "    </tr>\n",
       "  </thead>\n",
       "  <tbody>\n",
       "    <tr>\n",
       "      <th>0</th>\n",
       "      <td>FFB692EC</td>\n",
       "      <td>Kamigata To Boots</td>\n",
       "      <td>The Mass Missile</td>\n",
       "      <td>rock</td>\n",
       "      <td>Shelbyville</td>\n",
       "      <td>20:28:33</td>\n",
       "      <td>Wednesday</td>\n",
       "    </tr>\n",
       "    <tr>\n",
       "      <th>1</th>\n",
       "      <td>55204538</td>\n",
       "      <td>Delayed Because of Accident</td>\n",
       "      <td>Andreas Rönnberg</td>\n",
       "      <td>rock</td>\n",
       "      <td>Springfield</td>\n",
       "      <td>14:07:09</td>\n",
       "      <td>Friday</td>\n",
       "    </tr>\n",
       "    <tr>\n",
       "      <th>2</th>\n",
       "      <td>20EC38</td>\n",
       "      <td>Funiculì funiculà</td>\n",
       "      <td>Mario Lanza</td>\n",
       "      <td>pop</td>\n",
       "      <td>Shelbyville</td>\n",
       "      <td>20:58:07</td>\n",
       "      <td>Wednesday</td>\n",
       "    </tr>\n",
       "    <tr>\n",
       "      <th>3</th>\n",
       "      <td>A3DD03C9</td>\n",
       "      <td>Dragons in the Sunset</td>\n",
       "      <td>Fire + Ice</td>\n",
       "      <td>folk</td>\n",
       "      <td>Shelbyville</td>\n",
       "      <td>08:37:09</td>\n",
       "      <td>Monday</td>\n",
       "    </tr>\n",
       "    <tr>\n",
       "      <th>4</th>\n",
       "      <td>E2DC1FAE</td>\n",
       "      <td>Soul People</td>\n",
       "      <td>Space Echo</td>\n",
       "      <td>dance</td>\n",
       "      <td>Springfield</td>\n",
       "      <td>08:34:34</td>\n",
       "      <td>Monday</td>\n",
       "    </tr>\n",
       "    <tr>\n",
       "      <th>5</th>\n",
       "      <td>842029A1</td>\n",
       "      <td>Chains</td>\n",
       "      <td>Obladaet</td>\n",
       "      <td>rusrap</td>\n",
       "      <td>Shelbyville</td>\n",
       "      <td>13:09:41</td>\n",
       "      <td>Friday</td>\n",
       "    </tr>\n",
       "    <tr>\n",
       "      <th>6</th>\n",
       "      <td>4CB90AA5</td>\n",
       "      <td>True</td>\n",
       "      <td>Roman Messer</td>\n",
       "      <td>dance</td>\n",
       "      <td>Springfield</td>\n",
       "      <td>13:00:07</td>\n",
       "      <td>Wednesday</td>\n",
       "    </tr>\n",
       "    <tr>\n",
       "      <th>7</th>\n",
       "      <td>F03E1C1F</td>\n",
       "      <td>Feeling This Way</td>\n",
       "      <td>Polina Griffith</td>\n",
       "      <td>dance</td>\n",
       "      <td>Springfield</td>\n",
       "      <td>20:47:49</td>\n",
       "      <td>Wednesday</td>\n",
       "    </tr>\n",
       "    <tr>\n",
       "      <th>8</th>\n",
       "      <td>8FA1D3BE</td>\n",
       "      <td>L’estate</td>\n",
       "      <td>Julia Dalia</td>\n",
       "      <td>ruspop</td>\n",
       "      <td>Springfield</td>\n",
       "      <td>09:17:40</td>\n",
       "      <td>Friday</td>\n",
       "    </tr>\n",
       "    <tr>\n",
       "      <th>9</th>\n",
       "      <td>E772D5C0</td>\n",
       "      <td>Pessimist</td>\n",
       "      <td>NaN</td>\n",
       "      <td>dance</td>\n",
       "      <td>Shelbyville</td>\n",
       "      <td>21:20:49</td>\n",
       "      <td>Wednesday</td>\n",
       "    </tr>\n",
       "  </tbody>\n",
       "</table>\n",
       "</div>"
      ],
      "text/plain": [
       "     userID                        Track            artist   genre  \\\n",
       "0  FFB692EC            Kamigata To Boots  The Mass Missile    rock   \n",
       "1  55204538  Delayed Because of Accident  Andreas Rönnberg    rock   \n",
       "2    20EC38            Funiculì funiculà       Mario Lanza     pop   \n",
       "3  A3DD03C9        Dragons in the Sunset        Fire + Ice    folk   \n",
       "4  E2DC1FAE                  Soul People        Space Echo   dance   \n",
       "5  842029A1                       Chains          Obladaet  rusrap   \n",
       "6  4CB90AA5                         True      Roman Messer   dance   \n",
       "7  F03E1C1F             Feeling This Way   Polina Griffith   dance   \n",
       "8  8FA1D3BE                     L’estate       Julia Dalia  ruspop   \n",
       "9  E772D5C0                    Pessimist               NaN   dance   \n",
       "\n",
       "        City        time        Day  \n",
       "0  Shelbyville  20:28:33  Wednesday  \n",
       "1  Springfield  14:07:09     Friday  \n",
       "2  Shelbyville  20:58:07  Wednesday  \n",
       "3  Shelbyville  08:37:09     Monday  \n",
       "4  Springfield  08:34:34     Monday  \n",
       "5  Shelbyville  13:09:41     Friday  \n",
       "6  Springfield  13:00:07  Wednesday  \n",
       "7  Springfield  20:47:49  Wednesday  \n",
       "8  Springfield  09:17:40     Friday  \n",
       "9  Shelbyville  21:20:49  Wednesday  "
      ]
     },
     "execution_count": 4,
     "metadata": {},
     "output_type": "execute_result"
    }
   ],
   "source": [
    "# obtenha as 10 primeiras 10 linhas da tabela df\n",
    "df.head(10)"
   ]
  },
  {
   "cell_type": "markdown",
   "metadata": {},
   "source": [
    "<div class=\"alert alert-block alert-success\">\n",
    "<b> Comentário do revisor: </b> <a class=\"tocSkip\"></a>\n",
    "\n",
    "Correto\n",
    "</div>"
   ]
  },
  {
   "cell_type": "markdown",
   "metadata": {
    "id": "EO73Kwic_Zct"
   },
   "source": [
    "Obtendo as informações gerais sobre a tabela com um comando:"
   ]
  },
  {
   "cell_type": "code",
   "execution_count": 5,
   "metadata": {
    "id": "DSf2kIb-_Zct"
   },
   "outputs": [
    {
     "name": "stdout",
     "output_type": "stream",
     "text": [
      "<class 'pandas.core.frame.DataFrame'>\n",
      "RangeIndex: 65079 entries, 0 to 65078\n",
      "Data columns (total 7 columns):\n",
      " #   Column    Non-Null Count  Dtype \n",
      "---  ------    --------------  ----- \n",
      " 0     userID  65079 non-null  object\n",
      " 1   Track     63736 non-null  object\n",
      " 2   artist    57512 non-null  object\n",
      " 3   genre     63881 non-null  object\n",
      " 4     City    65079 non-null  object\n",
      " 5   time      65079 non-null  object\n",
      " 6   Day       65079 non-null  object\n",
      "dtypes: object(7)\n",
      "memory usage: 3.5+ MB\n"
     ]
    }
   ],
   "source": [
    "# obtendo informações gerais sobre os dados em df\n",
    "df.info()"
   ]
  },
  {
   "cell_type": "markdown",
   "metadata": {},
   "source": [
    "<div class=\"alert alert-block alert-success\">\n",
    "<b> Comentário do revisor: </b> <a class=\"tocSkip\"></a>\n",
    "\n",
    "Correto\n",
    "</div>"
   ]
  },
  {
   "cell_type": "markdown",
   "metadata": {
    "id": "TaQ2Iwbr_Zct"
   },
   "source": [
    "A tabela contém sete colunas. Elas armazenam o mesmo tipo de dado: `object`.\n",
    "\n",
    "De acordo com a documentação:\n",
    "- `'userID'` — identificação do usuário\n",
    "- `'Track'` — título da música\n",
    "- `'artist'` — nome do artista\n",
    "- `'genre'` — o gênero\n",
    "- `'City'` — cidade do usuário\n",
    "- `'time'` — tempo exato que a música foi tocada\n",
    "- `'Day'` — dia da semana\n",
    "\n",
    "Nós podemos ver três problemas com o estilo nos nomes das colunas:\n",
    "1. Alguns nomes estão com letra maiúscula, alguns com letra minúscula.\n",
    "2. Há espaços em alguns nomes.\n",
    "3. O tipo do da coluna `'time'` está em object ou seja, em string em vez de datetime.\n",
    "\n",
    "A quantidade de valores das colunas é diferente. Isso significa que os dados contém valores ausentes.\n"
   ]
  },
  {
   "cell_type": "markdown",
   "metadata": {},
   "source": [
    "<div class=\"alert alert-block alert-warning\">\n",
    "<b> Comentário do revisor: </b> <a class=\"tocSkip\"></a>\n",
    "\n",
    "Parcialmente correto. Porém, você não descreveu o problema na coluna time. Veja que o tipo está como object em vez de datetime\n",
    "</div>"
   ]
  },
  {
   "cell_type": "markdown",
   "metadata": {},
   "source": [
    "<div class=\"alert alert-block alert-success\">\n",
    "<b> Comentário do revisor: </b> <a class=\"tocSkip\"></a>\n",
    "\n",
    "Correto\n",
    "</div>"
   ]
  },
  {
   "cell_type": "markdown",
   "metadata": {
    "id": "MCB6-dXG_Zct"
   },
   "source": [
    "### Conclusões <a id='data_review_conclusions'></a> \n",
    "\n",
    "Cada linha na tabela armazena dados sobre uma música que foi tocada. Algumas colunas descrevem a música por si só: seu título, artista e gênero. O restante contém informações sobre o usuário: a cidade de onde eles vêm, a quantidade de vezes que a música foi tocada. \n",
    "\n",
    "Está claro que os dados são suficientes para testar as hipóteses. Entretanto, há valores ausentes.\n",
    "\n",
    "Para seguir adiante, precisamos pré-processar os dados."
   ]
  },
  {
   "cell_type": "markdown",
   "metadata": {
    "id": "3eL__vcwViOi"
   },
   "source": [
    "[Voltar ao Índice](#back)"
   ]
  },
  {
   "cell_type": "markdown",
   "metadata": {
    "id": "SjYF6Ub9_Zct"
   },
   "source": [
    "## Etapa 2. Pré-processar dados <a id='data_preprocessing'></a>\n",
    "Corrija a formatação no cabeçalho da coluna e trabalhe com os valores ausentes. Depois, verifique se há duplicatas nos dados."
   ]
  },
  {
   "cell_type": "markdown",
   "metadata": {
    "id": "dIaKXr29_Zct"
   },
   "source": [
    "### Estilo do cabeçalho <a id='header_style'></a>\n",
    "Exiba o cabeçalho da coluna:"
   ]
  },
  {
   "cell_type": "code",
   "execution_count": 6,
   "metadata": {
    "id": "oKOTdF_Q_Zct"
   },
   "outputs": [
    {
     "name": "stdout",
     "output_type": "stream",
     "text": [
      "Index(['  userID', 'Track', 'artist', 'genre', '  City  ', 'time', 'Day'], dtype='object')\n"
     ]
    }
   ],
   "source": [
    "# a lista dos nomes das colunas na tabela df\n",
    "print(df.columns)"
   ]
  },
  {
   "cell_type": "markdown",
   "metadata": {},
   "source": [
    "<div class=\"alert alert-block alert-success\">\n",
    "<b> Comentário do revisor: </b> <a class=\"tocSkip\"></a>\n",
    "\n",
    "Correto\n",
    "</div>"
   ]
  },
  {
   "cell_type": "markdown",
   "metadata": {
    "id": "zj5534cv_Zct"
   },
   "source": [
    "Mude os nomes das colunas de acordo com as regras da boa prática de estilo:\n",
    "* Se o nome tiver várias palavras, use snake_case\n",
    "* Todos os caracteres precisam estar com letras minúsculas\n",
    "* Delete espaços"
   ]
  },
  {
   "cell_type": "code",
   "execution_count": 7,
   "metadata": {
    "id": "ISlFqs5y_Zct"
   },
   "outputs": [],
   "source": [
    "# renomeando colunas\n",
    "df = df.rename(\n",
    "    columns={\n",
    "        '  userID':'user_id', \n",
    "        'Track':'track', \n",
    "        'artist':'artist', \n",
    "        'genre':'genre', \n",
    "        '  City  ':'city', \n",
    "        'time':'time', \n",
    "        'Day':'day'\n",
    "    }\n",
    ")"
   ]
  },
  {
   "cell_type": "markdown",
   "metadata": {},
   "source": [
    "<div class=\"alert alert-block alert-success\">\n",
    "<b> Comentário do revisor: </b> <a class=\"tocSkip\"></a>\n",
    "\n",
    "Correto\n",
    "</div>"
   ]
  },
  {
   "cell_type": "markdown",
   "metadata": {
    "id": "1dqbh00J_Zct"
   },
   "source": [
    "Verifique o resultado. Exiba os nomes das colunas mais uma vez:"
   ]
  },
  {
   "cell_type": "code",
   "execution_count": 8,
   "metadata": {
    "id": "d4NOAmTW_Zct"
   },
   "outputs": [
    {
     "name": "stdout",
     "output_type": "stream",
     "text": [
      "Index(['user_id', 'track', 'artist', 'genre', 'city', 'time', 'day'], dtype='object')\n"
     ]
    }
   ],
   "source": [
    "# checando o resultado: a lista dos nomes das colunas\n",
    "print(df.columns)"
   ]
  },
  {
   "cell_type": "markdown",
   "metadata": {},
   "source": [
    "<div class=\"alert alert-block alert-success\">\n",
    "<b> Comentário do revisor: </b> <a class=\"tocSkip\"></a>\n",
    "\n",
    "Correto\n",
    "</div>"
   ]
  },
  {
   "cell_type": "markdown",
   "metadata": {
    "id": "xYJk6ksJVpOl"
   },
   "source": [
    "[Voltar ao Índice](#back)"
   ]
  },
  {
   "cell_type": "markdown",
   "metadata": {
    "id": "5ISfbcfY_Zct"
   },
   "source": [
    "### Valores ausentes <a id='missing_values'></a>\n",
    "Primeiro, encontre a quantidade de valores ausentes na tabela. Para fazer isso, use dois métodos pandas:"
   ]
  },
  {
   "cell_type": "code",
   "execution_count": 9,
   "metadata": {
    "id": "RskX29qr_Zct"
   },
   "outputs": [
    {
     "name": "stdout",
     "output_type": "stream",
     "text": [
      "user_id       0\n",
      "track      1343\n",
      "artist     7567\n",
      "genre      1198\n",
      "city          0\n",
      "time          0\n",
      "day           0\n",
      "dtype: int64\n"
     ]
    }
   ],
   "source": [
    "# calculando valores ausentes\n",
    "print(df.isna().sum())"
   ]
  },
  {
   "cell_type": "markdown",
   "metadata": {},
   "source": [
    "<div class=\"alert alert-block alert-success\">\n",
    "<b> Comentário do revisor: </b> <a class=\"tocSkip\"></a>\n",
    "\n",
    "Correto\n",
    "</div>"
   ]
  },
  {
   "cell_type": "markdown",
   "metadata": {
    "id": "qubhgnlO_Zct"
   },
   "source": [
    "Nem todos os valores ausentes afetam a pesquisa. Por exemplo, os valores ausentes na música e artista não é decisivo. Você pode simplesmente substituí-los por marcadores claros.\n",
    "\n",
    "Mas valores ausentes em `'genre'` pode afetar a comparação de preferências musicais de Springfield e Shelbyville. Na vida real, seria útil descobrir as razões pelas quais os dados estão ausentes e tentar compensá-los. Mas nós não temos essa possibilidade neste projeto. Então, você terá que:\n",
    "* Preencher os valores ausentes com marcadores\n",
    "* Avaliar o quanto os valores ausentes podem afetar os seus cálculos"
   ]
  },
  {
   "cell_type": "markdown",
   "metadata": {
    "id": "fSv2laPA_Zct"
   },
   "source": [
    "Substituir os valores ausentes em `'track'`, `'artist'`, e `'genre'` com a string `'unknown'`. Para fazer isso, crie a lista `columns_to_replace`, percorra-a com o laço `for`, e substitua os valores ausentes em cada uma das colunas:"
   ]
  },
  {
   "cell_type": "code",
   "execution_count": 10,
   "metadata": {
    "id": "KplB5qWs_Zct"
   },
   "outputs": [],
   "source": [
    "# percorrendo os nomes das colunas e substituindo valores ausentes com 'unknown'\n",
    "df['track'] = df ['track'].fillna('unknown')\n",
    "df['artist'] = df ['artist'].fillna('unknown')\n",
    "df['genre'] = df ['genre'].fillna('unknown')"
   ]
  },
  {
   "cell_type": "markdown",
   "metadata": {},
   "source": [
    "<div class=\"alert alert-block alert-success\">\n",
    "<b> Comentário do revisor: </b> <a class=\"tocSkip\"></a>\n",
    "\n",
    "Correto\n",
    "</div>"
   ]
  },
  {
   "cell_type": "markdown",
   "metadata": {
    "id": "Ilsm-MZo_Zct"
   },
   "source": [
    "Certifique-se de que a tabela não contenha mais valores ausentes. Conte os valores ausentes novamente."
   ]
  },
  {
   "cell_type": "code",
   "execution_count": 11,
   "metadata": {
    "id": "Tq4nYRX4_Zct"
   },
   "outputs": [
    {
     "name": "stdout",
     "output_type": "stream",
     "text": [
      "user_id    0\n",
      "track      0\n",
      "artist     0\n",
      "genre      0\n",
      "city       0\n",
      "time       0\n",
      "day        0\n",
      "dtype: int64\n"
     ]
    }
   ],
   "source": [
    "# contando os valores ausentes\n",
    "print(df.isna().sum())"
   ]
  },
  {
   "cell_type": "markdown",
   "metadata": {},
   "source": [
    "<div class=\"alert alert-block alert-success\">\n",
    "<b> Comentário do revisor: </b> <a class=\"tocSkip\"></a>\n",
    "\n",
    "Correto\n",
    "</div>"
   ]
  },
  {
   "cell_type": "markdown",
   "metadata": {
    "id": "74ZIBmq9VrsK"
   },
   "source": [
    "[Voltar ao Índice](#back)"
   ]
  },
  {
   "cell_type": "markdown",
   "metadata": {
    "id": "BWKRtBJ3_Zct"
   },
   "source": [
    "### Duplicatas <a id='duplicates'></a>\n",
    "Encontre o número de duplicatas óbvias na tabela usando um comando:"
   ]
  },
  {
   "cell_type": "code",
   "execution_count": 12,
   "metadata": {
    "id": "36eES_S0_Zct"
   },
   "outputs": [
    {
     "name": "stdout",
     "output_type": "stream",
     "text": [
      "3826\n"
     ]
    }
   ],
   "source": [
    "# contando duplicatas claras\n",
    "'''\n",
    "duplicated_df = df[df.duplicated()]\n",
    "print(duplicated_df.head())\n",
    "'''\n",
    "\n",
    "print(df.duplicated().sum())"
   ]
  },
  {
   "cell_type": "markdown",
   "metadata": {},
   "source": [
    "<div class=\"alert alert-block alert-success\">\n",
    "<b> Comentário do revisor: </b> <a class=\"tocSkip\"></a>\n",
    "\n",
    "Correto\n",
    "</div>"
   ]
  },
  {
   "cell_type": "markdown",
   "metadata": {
    "id": "Ot25h6XR_Zct"
   },
   "source": [
    "Chame o método `pandas` para se livrar das duplicatas óbvias:"
   ]
  },
  {
   "cell_type": "code",
   "execution_count": 13,
   "metadata": {
    "id": "exFHq6tt_Zct"
   },
   "outputs": [],
   "source": [
    "# removendo duplicatas óbvias\n",
    "df = df.drop_duplicates()"
   ]
  },
  {
   "cell_type": "markdown",
   "metadata": {},
   "source": [
    "<div class=\"alert alert-block alert-success\">\n",
    "<b> Comentário do revisor: </b> <a class=\"tocSkip\"></a>\n",
    "\n",
    "Correto\n",
    "</div>"
   ]
  },
  {
   "cell_type": "markdown",
   "metadata": {
    "id": "Im2YwBEG_Zct"
   },
   "source": [
    "Conte as duplicatas óbvias mais uma vez certifique-se que você removeu todas elas:"
   ]
  },
  {
   "cell_type": "code",
   "execution_count": 14,
   "metadata": {
    "id": "-8PuNWQ0_Zct"
   },
   "outputs": [
    {
     "name": "stdout",
     "output_type": "stream",
     "text": [
      "0\n"
     ]
    }
   ],
   "source": [
    "# verificando duplicatas\n",
    "'''\n",
    "duplicated_df = df[df.duplicated()]\n",
    "print(duplicated_df.head())\n",
    "'''\n",
    "\n",
    "print(df.duplicated().sum())"
   ]
  },
  {
   "cell_type": "markdown",
   "metadata": {},
   "source": [
    "<div class=\"alert alert-block alert-success\">\n",
    "<b> Comentário do revisor: </b> <a class=\"tocSkip\"></a>\n",
    "\n",
    "Correto\n",
    "</div>"
   ]
  },
  {
   "cell_type": "markdown",
   "metadata": {
    "id": "QlFBsxAr_Zct"
   },
   "source": [
    "Agora, livre-se das duplicatas implícitas na coluna genre. Por exemplo, o nome de um gênero pode ser escrito de maneiras diferentes. Alguns erros afetarão também o resultado."
   ]
  },
  {
   "cell_type": "markdown",
   "metadata": {
    "id": "eSjWwsOh_Zct"
   },
   "source": [
    "Exiba a lista de nomes de gêneros únicos, organizados em ordem alfabética. Para fazer isso:\n",
    "* Recupere o DataFrame da coluna pretendida \n",
    "* Aplique um método de escolha para isso\n",
    "* Para a coluna selecionada, chame o método que irá retornar todos os valores únicos das colunas"
   ]
  },
  {
   "cell_type": "code",
   "execution_count": 15,
   "metadata": {
    "id": "JIUcqzZN_Zct"
   },
   "outputs": [
    {
     "name": "stdout",
     "output_type": "stream",
     "text": [
      "['acid' 'acoustic' 'action' 'adult' 'africa' 'afrikaans' 'alternative'\n",
      " 'ambient' 'americana' 'animated' 'anime' 'arabesk' 'arabic' 'arena'\n",
      " 'argentinetango' 'art' 'audiobook' 'avantgarde' 'axé' 'baile' 'balkan'\n",
      " 'beats' 'bigroom' 'black' 'bluegrass' 'blues' 'bollywood' 'bossa'\n",
      " 'brazilian' 'breakbeat' 'breaks' 'broadway' 'cantautori' 'cantopop'\n",
      " 'canzone' 'caribbean' 'caucasian' 'celtic' 'chamber' 'children' 'chill'\n",
      " 'chinese' 'choral' 'christian' 'christmas' 'classical' 'classicmetal'\n",
      " 'club' 'colombian' 'comedy' 'conjazz' 'contemporary' 'country' 'cuban'\n",
      " 'dance' 'dancehall' 'dancepop' 'dark' 'death' 'deep' 'deutschrock'\n",
      " 'deutschspr' 'dirty' 'disco' 'dnb' 'documentary' 'downbeat' 'downtempo'\n",
      " 'drum' 'dub' 'dubstep' 'eastern' 'easy' 'electronic' 'electropop' 'emo'\n",
      " 'entehno' 'epicmetal' 'estrada' 'ethnic' 'eurofolk' 'european'\n",
      " 'experimental' 'extrememetal' 'fado' 'film' 'fitness' 'flamenco' 'folk'\n",
      " 'folklore' 'folkmetal' 'folkrock' 'folktronica' 'forró' 'frankreich'\n",
      " 'französisch' 'french' 'funk' 'future' 'gangsta' 'garage' 'german'\n",
      " 'ghazal' 'gitarre' 'glitch' 'gospel' 'gothic' 'grime' 'grunge' 'gypsy'\n",
      " 'handsup' \"hard'n'heavy\" 'hardcore' 'hardstyle' 'hardtechno' 'hip'\n",
      " 'hip-hop' 'hiphop' 'historisch' 'holiday' 'hop' 'horror' 'house' 'idm'\n",
      " 'independent' 'indian' 'indie' 'indipop' 'industrial' 'inspirational'\n",
      " 'instrumental' 'international' 'irish' 'jam' 'japanese' 'jazz' 'jewish'\n",
      " 'jpop' 'jungle' 'k-pop' 'karadeniz' 'karaoke' 'kayokyoku' 'korean'\n",
      " 'laiko' 'latin' 'latino' 'leftfield' 'local' 'lounge' 'loungeelectronic'\n",
      " 'lovers' 'malaysian' 'mandopop' 'marschmusik' 'meditative'\n",
      " 'mediterranean' 'melodic' 'metal' 'metalcore' 'mexican' 'middle'\n",
      " 'minimal' 'miscellaneous' 'modern' 'mood' 'mpb' 'muslim' 'native'\n",
      " 'neoklassik' 'neue' 'new' 'newage' 'newwave' 'nu' 'nujazz' 'numetal'\n",
      " 'oceania' 'old' 'opera' 'orchestral' 'other' 'piano' 'pop'\n",
      " 'popelectronic' 'popeurodance' 'post' 'posthardcore' 'postrock' 'power'\n",
      " 'progmetal' 'progressive' 'psychedelic' 'punjabi' 'punk' 'quebecois'\n",
      " 'ragga' 'ram' 'rancheras' 'rap' 'rave' 'reggae' 'reggaeton' 'regional'\n",
      " 'relax' 'religious' 'retro' 'rhythm' 'rnb' 'rnr' 'rock' 'rockabilly'\n",
      " 'romance' 'roots' 'ruspop' 'rusrap' 'rusrock' 'salsa' 'samba' 'schlager'\n",
      " 'self' 'sertanejo' 'shoegazing' 'showtunes' 'singer' 'ska' 'slow'\n",
      " 'smooth' 'soul' 'soulful' 'sound' 'soundtrack' 'southern' 'specialty'\n",
      " 'speech' 'spiritual' 'sport' 'stonerrock' 'surf' 'swing' 'synthpop'\n",
      " 'sängerportrait' 'tango' 'tanzorchester' 'taraftar' 'tech' 'techno'\n",
      " 'thrash' 'top' 'traditional' 'tradjazz' 'trance' 'tribal' 'trip'\n",
      " 'triphop' 'tropical' 'türk' 'türkçe' 'unknown' 'urban' 'uzbek' 'variété'\n",
      " 'vi' 'videogame' 'vocal' 'western' 'world' 'worldbeat' 'ïîï']\n"
     ]
    }
   ],
   "source": [
    "# visualizando nomes de gêneros únicos\n",
    "df_genre = df.sort_values(by='genre')\n",
    "print(df_genre['genre'].unique())"
   ]
  },
  {
   "cell_type": "markdown",
   "metadata": {},
   "source": [
    "<div class=\"alert alert-block alert-success\">\n",
    "<b> Comentário do revisor: </b> <a class=\"tocSkip\"></a>\n",
    "\n",
    "Correto\n",
    "</div>"
   ]
  },
  {
   "cell_type": "markdown",
   "metadata": {
    "id": "qej-Qmuo_Zct"
   },
   "source": [
    "Olhe a lista e encontre duplicatas implícitas do gênero `hiphop`. Esses podem ser nomes escritos incorretamente, ou nomes alternativos para o mesmo gênero.\n",
    "\n",
    "Você verá as seguintes duplicatas implícitas:\n",
    "* `hip`\n",
    "* `hop`\n",
    "* `hip-hop`\n",
    "\n",
    "Para se livrar deles, declare a função `replace_wrong_genres()` com dois parâmetros: \n",
    "* `wrong_genres=` — a lista de duplicatas\n",
    "* `correct_genre=` — a string com o valor correto\n",
    "\n",
    "A função deve corrigir os nomes na coluna `'genre'` da tabela `df` isto é, substituindo cada valor da lista `wrong_genres` por valores de `correct_genre`."
   ]
  },
  {
   "cell_type": "code",
   "execution_count": 16,
   "metadata": {
    "id": "ErNDkmns_Zct"
   },
   "outputs": [],
   "source": [
    "# função para substituir duplicatas implícitas\n",
    "wrong_genres = ['hip','hop','hip-hop']\n",
    "correct_genre = 'hiphop'"
   ]
  },
  {
   "cell_type": "markdown",
   "metadata": {
    "id": "aDoBJxbA_Zct"
   },
   "source": [
    "Chame `replace_wrong_genres()` e passe a ela argumentos para que possa eliminar as duplicatas implícitas (`hip`, `hop`, e `hip-hop`) e substituí-los por `hiphop`:"
   ]
  },
  {
   "cell_type": "code",
   "execution_count": 17,
   "metadata": {
    "id": "YN5i2hpmSo09"
   },
   "outputs": [],
   "source": [
    "# removendo duplicatas implícitas\n",
    "def replace_wrong_genre(wrong_values,correct_value):\n",
    "    for wrong_value in wrong_values:\n",
    "        df['genre'] = df['genre'].replace(wrong_values,correct_value)\n",
    "\n",
    "replace_wrong_genre(wrong_genres, correct_genre)\n",
    "        "
   ]
  },
  {
   "cell_type": "markdown",
   "metadata": {},
   "source": [
    "<div class=\"alert alert-block alert-success\">\n",
    "<b> Comentário do revisor: </b> <a class=\"tocSkip\"></a>\n",
    "\n",
    "Correto\n",
    "</div>"
   ]
  },
  {
   "cell_type": "markdown",
   "metadata": {
    "id": "zQKF16_RG15m"
   },
   "source": [
    "Certifique-se que os nomes duplicados foram removidos. Exiba a lista de valores únicos da coluna `'genre'`:"
   ]
  },
  {
   "cell_type": "code",
   "execution_count": 18,
   "metadata": {
    "id": "wvixALnFG15m"
   },
   "outputs": [
    {
     "name": "stdout",
     "output_type": "stream",
     "text": [
      "['acid' 'acoustic' 'action' 'adult' 'africa' 'afrikaans' 'alternative'\n",
      " 'ambient' 'americana' 'animated' 'anime' 'arabesk' 'arabic' 'arena'\n",
      " 'argentinetango' 'art' 'audiobook' 'avantgarde' 'axé' 'baile' 'balkan'\n",
      " 'beats' 'bigroom' 'black' 'bluegrass' 'blues' 'bollywood' 'bossa'\n",
      " 'brazilian' 'breakbeat' 'breaks' 'broadway' 'cantautori' 'cantopop'\n",
      " 'canzone' 'caribbean' 'caucasian' 'celtic' 'chamber' 'children' 'chill'\n",
      " 'chinese' 'choral' 'christian' 'christmas' 'classical' 'classicmetal'\n",
      " 'club' 'colombian' 'comedy' 'conjazz' 'contemporary' 'country' 'cuban'\n",
      " 'dance' 'dancehall' 'dancepop' 'dark' 'death' 'deep' 'deutschrock'\n",
      " 'deutschspr' 'dirty' 'disco' 'dnb' 'documentary' 'downbeat' 'downtempo'\n",
      " 'drum' 'dub' 'dubstep' 'eastern' 'easy' 'electronic' 'electropop' 'emo'\n",
      " 'entehno' 'epicmetal' 'estrada' 'ethnic' 'eurofolk' 'european'\n",
      " 'experimental' 'extrememetal' 'fado' 'film' 'fitness' 'flamenco' 'folk'\n",
      " 'folklore' 'folkmetal' 'folkrock' 'folktronica' 'forró' 'frankreich'\n",
      " 'französisch' 'french' 'funk' 'future' 'gangsta' 'garage' 'german'\n",
      " 'ghazal' 'gitarre' 'glitch' 'gospel' 'gothic' 'grime' 'grunge' 'gypsy'\n",
      " 'handsup' \"hard'n'heavy\" 'hardcore' 'hardstyle' 'hardtechno' 'hiphop'\n",
      " 'historisch' 'holiday' 'horror' 'house' 'idm' 'independent' 'indian'\n",
      " 'indie' 'indipop' 'industrial' 'inspirational' 'instrumental'\n",
      " 'international' 'irish' 'jam' 'japanese' 'jazz' 'jewish' 'jpop' 'jungle'\n",
      " 'k-pop' 'karadeniz' 'karaoke' 'kayokyoku' 'korean' 'laiko' 'latin'\n",
      " 'latino' 'leftfield' 'local' 'lounge' 'loungeelectronic' 'lovers'\n",
      " 'malaysian' 'mandopop' 'marschmusik' 'meditative' 'mediterranean'\n",
      " 'melodic' 'metal' 'metalcore' 'mexican' 'middle' 'minimal'\n",
      " 'miscellaneous' 'modern' 'mood' 'mpb' 'muslim' 'native' 'neoklassik'\n",
      " 'neue' 'new' 'newage' 'newwave' 'nu' 'nujazz' 'numetal' 'oceania' 'old'\n",
      " 'opera' 'orchestral' 'other' 'piano' 'pop' 'popelectronic' 'popeurodance'\n",
      " 'post' 'posthardcore' 'postrock' 'power' 'progmetal' 'progressive'\n",
      " 'psychedelic' 'punjabi' 'punk' 'quebecois' 'ragga' 'ram' 'rancheras'\n",
      " 'rap' 'rave' 'reggae' 'reggaeton' 'regional' 'relax' 'religious' 'retro'\n",
      " 'rhythm' 'rnb' 'rnr' 'rock' 'rockabilly' 'romance' 'roots' 'ruspop'\n",
      " 'rusrap' 'rusrock' 'salsa' 'samba' 'schlager' 'self' 'sertanejo'\n",
      " 'shoegazing' 'showtunes' 'singer' 'ska' 'slow' 'smooth' 'soul' 'soulful'\n",
      " 'sound' 'soundtrack' 'southern' 'specialty' 'speech' 'spiritual' 'sport'\n",
      " 'stonerrock' 'surf' 'swing' 'synthpop' 'sängerportrait' 'tango'\n",
      " 'tanzorchester' 'taraftar' 'tech' 'techno' 'thrash' 'top' 'traditional'\n",
      " 'tradjazz' 'trance' 'tribal' 'trip' 'triphop' 'tropical' 'türk' 'türkçe'\n",
      " 'unknown' 'urban' 'uzbek' 'variété' 'vi' 'videogame' 'vocal' 'western'\n",
      " 'world' 'worldbeat' 'ïîï']\n"
     ]
    }
   ],
   "source": [
    "# verificando valores duplicados\n",
    "df_genre = df.sort_values(by='genre')\n",
    "print(df_genre['genre'].unique())"
   ]
  },
  {
   "cell_type": "markdown",
   "metadata": {},
   "source": [
    "<div class=\"alert alert-block alert-success\">\n",
    "<b> Comentário do revisor: </b> <a class=\"tocSkip\"></a>\n",
    "\n",
    "Correto\n",
    "</div>"
   ]
  },
  {
   "cell_type": "markdown",
   "metadata": {
    "id": "ALgNbvF3VtPA"
   },
   "source": [
    "[Voltar ao Índice](#back)"
   ]
  },
  {
   "cell_type": "markdown",
   "metadata": {
    "id": "jz6a9-7HQUDd"
   },
   "source": [
    "### Conclusões <a id='data_preprocessing_conclusions'></a>\n",
    "Nós detectamos três problemas com os dados:\n",
    "\n",
    "- Estilo de cabeçalho incorreto\n",
    "- Valores ausentes\n",
    "- Duplicatas óbvias e implícitas\n",
    "\n",
    "O cabeçalho foi limpo para fazer o processamento da tabela mais simples.\n",
    "\n",
    "Todos os valores ausentes foram substituídos por `'unknown'`. Mas nós ainda temos que ver os se valores ausentes em `'genre'` afetará os nossos cálculos.\n",
    "\n",
    "A ausência de duplicatas deixará os resultados mais precisos e mais fáceis de entender.\n",
    "\n",
    "Agora você pode seguir para testar hipóteses."
   ]
  },
  {
   "cell_type": "markdown",
   "metadata": {
    "id": "eK1es74rVujj"
   },
   "source": [
    "[Voltar ao Índice](#back)"
   ]
  },
  {
   "cell_type": "markdown",
   "metadata": {
    "id": "WttZHXH0SqKk"
   },
   "source": [
    "## Etapa 3. Testando hipóteses <a id='hypotheses'></a>"
   ]
  },
  {
   "cell_type": "markdown",
   "metadata": {
    "id": "Im936VVi_Zcu"
   },
   "source": [
    "### Hipótese 1: comparando o comportamento dos usuários em duas cidades <a id='activity'></a>"
   ]
  },
  {
   "cell_type": "markdown",
   "metadata": {
    "id": "nwt_MuaL_Zcu"
   },
   "source": [
    "De acordo com a primeira hipótese, usuários de Springfield and Shelbyville escutam música de forma diferente. Teste essa hipótese usando os dados de três dias da semana: segunda-feira, quarta-feira, e sexta-feira.\n",
    "\n",
    "* Divida os usuários de cada cidade em grupos.\n",
    "* Compare quantas músicas cada grupo escutou na segunda-feira, quarta-feira e sexta-feira.\n"
   ]
  },
  {
   "cell_type": "markdown",
   "metadata": {
    "id": "8Dw_YMmT_Zcu"
   },
   "source": [
    "Por uma questão de prática, faça cada um desses cálculos separadamente. \n",
    "\n",
    "Avalie a atividade do usuário em cada cidade. Agrupe os dados por cidade e encontre o número de músicas tocadas em cada grupo.\n",
    "\n"
   ]
  },
  {
   "cell_type": "code",
   "execution_count": 19,
   "metadata": {
    "id": "0_Qs96oh_Zcu"
   },
   "outputs": [
    {
     "name": "stdout",
     "output_type": "stream",
     "text": [
      "Números de ouvintes em Springfield:\n",
      "42741\n",
      "Números de ouvintes em Shelbyville:\n",
      "18512\n"
     ]
    }
   ],
   "source": [
    "# Contando as músicas tocadas em cada cidade\n",
    "df_springfield = df[df['city'] == 'Springfield'] \n",
    "df_shelbyville = df[df['city'] == 'Shelbyville'] \n",
    "\n",
    "print(\"Números de ouvintes em Springfield:\")\n",
    "print(len(df_springfield))\n",
    "#print(df_springfield['city'].count())\n",
    "\n",
    "print(\"Números de ouvintes em Shelbyville:\")\n",
    "print(len(df_shelbyville))\n",
    "#print(df_shelbyville['city'].count())"
   ]
  },
  {
   "cell_type": "markdown",
   "metadata": {},
   "source": [
    "<div class=\"alert alert-block alert-success\">\n",
    "<b> Comentário do revisor: </b> <a class=\"tocSkip\"></a>\n",
    "\n",
    "Correto. Porém, é suficiente usar len() para saber a quantidade de músicas tocadas\n",
    "</div>"
   ]
  },
  {
   "cell_type": "markdown",
   "metadata": {
    "id": "dzli3w8o_Zcu"
   },
   "source": [
    "Springfield tem mais músicas tocadas do que Shelbyville. Mas isso não quer dizer que os cidadãos de Springfield escutam música com mais frequência. Essa cidade é somente maior, e tem mais usuários.\n",
    "\n",
    "Agora agrupe os dados por dia da semana e encontre a quantidade de músicas tocadas na segunda, quarta e sexta-feira.\n"
   ]
  },
  {
   "cell_type": "code",
   "execution_count": 20,
   "metadata": {
    "id": "uZMKjiJz_Zcu"
   },
   "outputs": [
    {
     "name": "stdout",
     "output_type": "stream",
     "text": [
      "Números de ouvintes na Segunda-Feira:\n",
      "21354\n",
      "Números de ouvintes na Quarta-Feira:\n",
      "18059\n",
      "Números de ouvintes na Sexta-Feira:\n",
      "21840\n"
     ]
    }
   ],
   "source": [
    "# Calculando as músicas escutadas em cada um desses três dias\n",
    "df_wednesday = df[df['day']=='Wednesday']\n",
    "df_friday = df[df['day']=='Friday']\n",
    "df_monday = df[df['day']=='Monday']\n",
    "\n",
    "print(\"Números de ouvintes na Segunda-Feira:\")\n",
    "print(df_monday['day'].count())\n",
    "\n",
    "print(\"Números de ouvintes na Quarta-Feira:\")\n",
    "print(df_wednesday['day'].count())\n",
    "\n",
    "print(\"Números de ouvintes na Sexta-Feira:\")\n",
    "print(df_friday['day'].count())"
   ]
  },
  {
   "cell_type": "markdown",
   "metadata": {},
   "source": [
    "<div class=\"alert alert-block alert-success\">\n",
    "<b> Comentário do revisor: </b> <a class=\"tocSkip\"></a>\n",
    "\n",
    "Correto\n",
    "</div>"
   ]
  },
  {
   "cell_type": "markdown",
   "metadata": {
    "id": "cC2tNrlL_Zcu"
   },
   "source": [
    "Quarta-feira é o dia mais calmo em geral. Mas se considerarmos as duas cidades separadamente, devemos chegar a uma conclusão diferente."
   ]
  },
  {
   "cell_type": "markdown",
   "metadata": {
    "id": "POzs8bGa_Zcu"
   },
   "source": [
    "Você viu como agrupar por cidade ou dia da semana funciona. Agora escreva a função que agrupar os dados pelos dois critérios.\n",
    "\n",
    "Crie a função `number_tracks()` para calcular o número de músicas tocadas em um determinado dia da semana e em cada cidade. Será necessários dois parâmetros:\n",
    "* dia da semana\n",
    "* nome da cidade\n",
    "\n",
    "Na função, use a variável para armazenar as linhas da tabela original, onde:\n",
    "  * `'day'` o valor da coluna `day` é igual ao parâmetro dia\n",
    "  * `'city'` o valor da coluna `city` é igual ao parâmetro cidade\n",
    "\n",
    "Aplique filtros consecutivos com indexação lógica.\n",
    "\n",
    "Depois, calcule os valores da coluna `'user_id'` na tabela resultante. Armazene o resultado na nova variável. Retorne essa variável da função."
   ]
  },
  {
   "cell_type": "code",
   "execution_count": 21,
   "metadata": {
    "id": "Nz3GdQB1_Zcu"
   },
   "outputs": [],
   "source": [
    "# <criando a função number_tracks()>   \n",
    "# vamos declarar a função com dois parâmetros: day=, city=.\n",
    "def number_tracks(day,city):\n",
    "# Deixe a variável track_list armazenar as linha df onde\n",
    "# o valor na coluna 'day' é igual ao parâmetro day= e ao mesmo tempo,\n",
    "    track_list=df[df['day']==day]\n",
    "# o valor na coluna 'city' é igual ao parâmetro city= (aplique filtragem consecutiva \n",
    "    track_list=track_list[track_list['city']==city]\n",
    "# com indexação lógica).\n",
    "# Deixe a variável track_list_count armazenar o número de valores da coluna 'user_id' em track_list\n",
    "# (encontre com o método count()).\n",
    "    track_list_count=track_list['user_id'].count()\n",
    "# Deixe a função retornar um número: o valor de track_list_count.\n",
    "    return track_list_count\n",
    "# A função conta músicas tocadas por uma certa cidade e dia.\n",
    "# primeiro retorne as linhas com o dia pretendido da tabela,\n",
    "# depois filtre as linhas com a cidade pretendida a parir do resultado,\n",
    "# depois encontre o número de valores de 'user_id' na tabela filtrada,\n",
    "# então retorne aquele número.\n",
    "# Para o que ele retorna, envolva a função call em print()."
   ]
  },
  {
   "cell_type": "markdown",
   "metadata": {},
   "source": [
    "<div class=\"alert alert-block alert-success\">\n",
    "<b> Comentário do revisor: </b> <a class=\"tocSkip\"></a>\n",
    "\n",
    "Correto\n",
    "</div>"
   ]
  },
  {
   "cell_type": "markdown",
   "metadata": {
    "id": "ytf7xFrFJQ2r"
   },
   "source": [
    "Chame a `number_tracks()` seis vezes, mudando os valores dos parâmetros, para que você recupere os dados de ambas as cidades para os três dias."
   ]
  },
  {
   "cell_type": "code",
   "execution_count": 22,
   "metadata": {
    "id": "rJcRATNQ_Zcu"
   },
   "outputs": [
    {
     "name": "stdout",
     "output_type": "stream",
     "text": [
      "15740\n"
     ]
    }
   ],
   "source": [
    "# a quantidade de músicas tocadas em Springfield na segunda-feira\n",
    "print(number_tracks(day='Monday',city='Springfield'))"
   ]
  },
  {
   "cell_type": "markdown",
   "metadata": {},
   "source": [
    "<div class=\"alert alert-block alert-success\">\n",
    "<b> Comentário do revisor: </b> <a class=\"tocSkip\"></a>\n",
    "\n",
    "Correto\n",
    "</div>"
   ]
  },
  {
   "cell_type": "code",
   "execution_count": 23,
   "metadata": {
    "id": "hq_ncZ5T_Zcu"
   },
   "outputs": [
    {
     "name": "stdout",
     "output_type": "stream",
     "text": [
      "5614\n"
     ]
    }
   ],
   "source": [
    "# a quantidade de músicas tocadas em Shelbyville na segunda-feira\n",
    "print(number_tracks(day='Monday',city='Shelbyville'))"
   ]
  },
  {
   "cell_type": "markdown",
   "metadata": {},
   "source": [
    "<div class=\"alert alert-block alert-success\">\n",
    "<b> Comentário do revisor: </b> <a class=\"tocSkip\"></a>\n",
    "\n",
    "Correto\n",
    "</div>"
   ]
  },
  {
   "cell_type": "code",
   "execution_count": 24,
   "metadata": {
    "id": "_NTy2VPU_Zcu",
    "scrolled": true
   },
   "outputs": [
    {
     "name": "stdout",
     "output_type": "stream",
     "text": [
      "11056\n"
     ]
    }
   ],
   "source": [
    "# a quantidade de músicas tocadas em Springfield na quarta-feira\n",
    "print(number_tracks(day='Wednesday',city='Springfield'))"
   ]
  },
  {
   "cell_type": "markdown",
   "metadata": {},
   "source": [
    "<div class=\"alert alert-block alert-success\">\n",
    "<b> Comentário do revisor: </b> <a class=\"tocSkip\"></a>\n",
    "\n",
    "Correto\n",
    "</div>"
   ]
  },
  {
   "cell_type": "code",
   "execution_count": 25,
   "metadata": {
    "id": "j2y3TAwo_Zcu",
    "scrolled": true
   },
   "outputs": [
    {
     "name": "stdout",
     "output_type": "stream",
     "text": [
      "7003\n"
     ]
    }
   ],
   "source": [
    "# a quantidade de músicas tocadas em Shelbyville na quarta-feira\n",
    "print(number_tracks(day='Wednesday',city='Shelbyville'))"
   ]
  },
  {
   "cell_type": "markdown",
   "metadata": {},
   "source": [
    "<div class=\"alert alert-block alert-success\">\n",
    "<b> Comentário do revisor: </b> <a class=\"tocSkip\"></a>\n",
    "\n",
    "Correto\n",
    "</div>"
   ]
  },
  {
   "cell_type": "code",
   "execution_count": 26,
   "metadata": {
    "id": "vYDw5u_K_Zcu"
   },
   "outputs": [
    {
     "name": "stdout",
     "output_type": "stream",
     "text": [
      "15945\n"
     ]
    }
   ],
   "source": [
    "# a quantidade de músicas tocadas em Springfield na sexta-feira\n",
    "print(number_tracks(day='Friday',city='Springfield'))"
   ]
  },
  {
   "cell_type": "markdown",
   "metadata": {},
   "source": [
    "<div class=\"alert alert-block alert-success\">\n",
    "<b> Comentário do revisor: </b> <a class=\"tocSkip\"></a>\n",
    "\n",
    "Correto\n",
    "</div>"
   ]
  },
  {
   "cell_type": "code",
   "execution_count": 27,
   "metadata": {
    "id": "8_yzFtW3_Zcu"
   },
   "outputs": [
    {
     "name": "stdout",
     "output_type": "stream",
     "text": [
      "5895\n"
     ]
    }
   ],
   "source": [
    "# a quantidade de músicas tocadas em Shelbyville na sexta-feira\n",
    "print(number_tracks(day='Friday',city='Shelbyville'))"
   ]
  },
  {
   "cell_type": "markdown",
   "metadata": {},
   "source": [
    "<div class=\"alert alert-block alert-success\">\n",
    "<b> Comentário do revisor: </b> <a class=\"tocSkip\"></a>\n",
    "\n",
    "Correto\n",
    "</div>"
   ]
  },
  {
   "cell_type": "markdown",
   "metadata": {
    "id": "7QXffbO-_Zcu"
   },
   "source": [
    "Use `pd.DataFrame` para criar uma tabela, onde\n",
    "* Os nomes das colunas são: `['city', 'monday', 'wednesday', 'friday']`\n",
    "* Os dados são o resultado que você recebe de `number_tracks()`"
   ]
  },
  {
   "cell_type": "code",
   "execution_count": 28,
   "metadata": {
    "id": "APAcLpOr_Zcu"
   },
   "outputs": [
    {
     "data": {
      "text/html": [
       "<div>\n",
       "<style scoped>\n",
       "    .dataframe tbody tr th:only-of-type {\n",
       "        vertical-align: middle;\n",
       "    }\n",
       "\n",
       "    .dataframe tbody tr th {\n",
       "        vertical-align: top;\n",
       "    }\n",
       "\n",
       "    .dataframe thead th {\n",
       "        text-align: right;\n",
       "    }\n",
       "</style>\n",
       "<table border=\"1\" class=\"dataframe\">\n",
       "  <thead>\n",
       "    <tr style=\"text-align: right;\">\n",
       "      <th></th>\n",
       "      <th>city</th>\n",
       "      <th>monday</th>\n",
       "      <th>wednesday</th>\n",
       "      <th>friday</th>\n",
       "    </tr>\n",
       "  </thead>\n",
       "  <tbody>\n",
       "    <tr>\n",
       "      <th>0</th>\n",
       "      <td>Springfield</td>\n",
       "      <td>15740</td>\n",
       "      <td>11056</td>\n",
       "      <td>15945</td>\n",
       "    </tr>\n",
       "    <tr>\n",
       "      <th>1</th>\n",
       "      <td>Shelbyville</td>\n",
       "      <td>5614</td>\n",
       "      <td>7003</td>\n",
       "      <td>5895</td>\n",
       "    </tr>\n",
       "  </tbody>\n",
       "</table>\n",
       "</div>"
      ],
      "text/plain": [
       "          city  monday  wednesday  friday\n",
       "0  Springfield   15740      11056   15945\n",
       "1  Shelbyville    5614       7003    5895"
      ]
     },
     "execution_count": 28,
     "metadata": {},
     "output_type": "execute_result"
    }
   ],
   "source": [
    "# tabela com resultados\n",
    "\n",
    "# monday= df[df['day']=='Monday']\n",
    "# wednesday= df[df['day']=='Wednesday']\n",
    "# friday= df[df['day']=='Friday']\n",
    "# city= df.loc[:,'city']\n",
    "\n",
    "\n",
    "data = {'city':['Springfield','Shelbyville'],\n",
    "       'monday':[15740,5614],\n",
    "       'wednesday':[11056,7003],\n",
    "       'friday':[15945,5895]}\n",
    "\n",
    "table = pd.DataFrame(data)\n",
    "\n",
    "table.head()"
   ]
  },
  {
   "cell_type": "markdown",
   "metadata": {},
   "source": [
    "<div class=\"alert alert-block alert-danger\">\n",
    "<b> Comentário do revisor: </b> <a class=\"tocSkip\"></a>\n",
    "\n",
    "A criação do dataframe table não está correto. Sugiro você sempre executar table.head() para visualizar. Recomendo a leitura deste material: https://www.geeksforgeeks.org/different-ways-to-create-pandas-dataframe/\n",
    "Nesse caso, eu acredito que o método \"Method #3: Creating DataFrame from dict of narray/lists\" é o mais indicado.\n",
    "</div>"
   ]
  },
  {
   "cell_type": "markdown",
   "metadata": {},
   "source": [
    "<div class=\"alert alert-block alert-success\">\n",
    "<b> Comentário do revisor: </b> <a class=\"tocSkip\"></a>\n",
    "\n",
    "A criação do dataframe agora está correta. Porém, em vez de fixar os valores, você deve utilizar o resultado da função que você criou, ex: number_tracks(day='Friday',city='Shelbyville')\n",
    "</div>"
   ]
  },
  {
   "cell_type": "markdown",
   "metadata": {
    "id": "-EgPIHYu_Zcu"
   },
   "source": [
    "**Conclusões**\n",
    "\n",
    "Os dados revelam diferenças no comportamento dos usuários:\n",
    "\n",
    "- Em Springfield, a quantidade de músicas tocadas tem seu auge nas segundas e sextas-feiras, enquanto na quarta-feira há uma diminuição na atividade.\n",
    "- Em Shelbyville, ao contrário, usuários escutam mais música na quarta-feira. A atividade na segunda e sexta-feira é pequena.\n",
    "\n",
    "Então a primeira hipótese parece ser correta."
   ]
  },
  {
   "cell_type": "markdown",
   "metadata": {
    "id": "p7nFQajCVw5B"
   },
   "source": [
    "[Voltar ao Índice](#back)"
   ]
  },
  {
   "cell_type": "markdown",
   "metadata": {
    "id": "atZAxtq4_Zcu"
   },
   "source": [
    "### Hipótese 2: música no começo e no fim da semana <a id='week'></a>"
   ]
  },
  {
   "cell_type": "markdown",
   "metadata": {
    "id": "eXrQqXFH_Zcu"
   },
   "source": [
    "De acordo com a segunda hipótese, na segunda-feira de manhã e sexta-feira à noite, habitantes de Springfield escutam gêneros que diferem de alguns usuários de Shelbyville gostam."
   ]
  },
  {
   "cell_type": "markdown",
   "metadata": {
    "id": "S8UcW6Hw_Zcu"
   },
   "source": [
    "Obtenha uma tabela (certifique-se de que o nome da sua tabela combinada corresponda ao DataFrame dado em dois blocos de código abaixo):\n",
    "* Para Springfield — `spr_general`\n",
    "* Para Shelbyville — `shel_general`"
   ]
  },
  {
   "cell_type": "code",
   "execution_count": 29,
   "metadata": {
    "id": "qeaFfM_P_Zcu"
   },
   "outputs": [],
   "source": [
    "# obtendo a tabela spr_generala partir das linhas df, \n",
    "# onde o valor na coluna 'city' é 'Springfield'\n",
    "spr_general=df[df['city'] == 'Springfield'] "
   ]
  },
  {
   "cell_type": "markdown",
   "metadata": {},
   "source": [
    "<div class=\"alert alert-block alert-success\">\n",
    "<b> Comentário do revisor: </b> <a class=\"tocSkip\"></a>\n",
    "\n",
    "Correto\n",
    "</div>"
   ]
  },
  {
   "cell_type": "code",
   "execution_count": 30,
   "metadata": {
    "id": "ORaVRKto_Zcu"
   },
   "outputs": [],
   "source": [
    "# obtendo os shel_general a partir das linhas df,\n",
    "# onde os valores na coluna 'city' é 'Shelbyville'\n",
    "shel_general=df[df['city'] == 'Shelbyville'] "
   ]
  },
  {
   "cell_type": "markdown",
   "metadata": {},
   "source": [
    "<div class=\"alert alert-block alert-success\">\n",
    "<b> Comentário do revisor: </b> <a class=\"tocSkip\"></a>\n",
    "\n",
    "Correto\n",
    "</div>"
   ]
  },
  {
   "cell_type": "markdown",
   "metadata": {
    "id": "MEJV-CX2_Zcu"
   },
   "source": [
    "Escreva a função `genre_weekday()` com quatro parâmetros:\n",
    "* Uma tabela para dados (`df`)\n",
    "* O dia da semana (`day`)\n",
    "* O primeiro carimbo de hora, no formato 'HH:MM' (`time1`)\n",
    "* O último carimbo de hora, no formato 'HH,MM' (`time2`)\n",
    "\n",
    "A função deve retornar informações sobre os 15 gêneros mais populares em um determinado dia, dentro do período entre os dois carimbos de hora."
   ]
  },
  {
   "cell_type": "code",
   "execution_count": 31,
   "metadata": {
    "id": "laJT9BYl_Zcu"
   },
   "outputs": [],
   "source": [
    "# Declarando a função genre_weekday() com os parâmetros day=, time1=, e time2=. It should\n",
    "def genre_weekday(df,day,time1 ,time2):\n",
    "# retornar a informação sobre os gêneros mais populares em um determinado dia em um período específico:\n",
    "\n",
    "# 1) Deixe a variável genre_df armazenar as linhas que satisfazem várias condições:\n",
    "#    - o valor na coluna 'day' é igual ao valor do argumento day=\n",
    "#    - o valor na coluna 'time' é maior do que o valor do argumento time1=\n",
    "#    - o valor na coluna 'time' é menor do que o valor do argumento time2=\n",
    "#    Use filtros consecutivos com indexação lógica.\n",
    "\n",
    "# 2) Agrupe genre_df pela coluna 'genre', pegue uma das suas colunas, \n",
    "#    e use o método count() para encontrar a quantidade de entradas para entradas de cada um dos \n",
    "#    representantes de gênero; armazene o objeto Series resultante na\n",
    "#    variável genre_df_count\n",
    "    \n",
    "    \n",
    "# 3) Organize genre_df_count em ordem decrescente de frequência e armazene o resultado\n",
    "#    para a variável genre_df_sorted\n",
    "\n",
    "# 4) Retorne um objeto Series com os primeiros 15 valores genre_df_sorted - os 15 maiores\n",
    "#    generos populares (em um determinado dia, dentro de um certo intervalo de tempo)\n",
    "\n",
    "# Escreva a sua função aqui\n",
    "\n",
    "    # filtragem consecutiva\n",
    "    # genre_df armazenará apenas as linhas df onde o dia é igual a day=\n",
    "    genre_df = df[df['day']==day]\n",
    "\n",
    "    # genre_df armazenará apenas aslinhas df que o tempo é menor do que time2=\n",
    "    genre_df = df[df['time']<time2]\n",
    "\n",
    "    # genre_df armazenará apenas as linhas onde onde o tempo é maior do que time1=\n",
    "    genre_df = df[df['time']>time1]\n",
    "\n",
    "    # agrope o DataFrame filtrado pela coluna com nomes dos gêneros, pegue a coluna gênero, e encontre o número de linhas para cada gênero com o método count()\n",
    "    genre_df_grouped = genre_df.groupby('genre')['genre'].count()\n",
    "\n",
    "    # nós vamos armazenar o resultado em ordem decrescente (para que os gêneros mais populares venham primeiro no objeto Series)\n",
    "    genre_df_sorted = genre_df_grouped.sort_values(ascending=False)\n",
    "    \n",
    "    # nós vamos retornar o objeto Serie armazenando os 15 gêneros mais populares em um determinado dia, dentro de um determinado intervalo de tempo\n",
    "    return genre_df_sorted[:15]"
   ]
  },
  {
   "cell_type": "markdown",
   "metadata": {},
   "source": [
    "<div class=\"alert alert-block alert-success\">\n",
    "<b> Comentário do revisor: </b> <a class=\"tocSkip\"></a>\n",
    "\n",
    "Correto\n",
    "</div>"
   ]
  },
  {
   "cell_type": "markdown",
   "metadata": {
    "id": "la2s2_PF_Zcu"
   },
   "source": [
    "Compare os resultados da função `genre_weekday()` para Springfield e Shelbyville na segunda-feira de manhã (de 7hs à 11hs) e na sexta-feira de tarde (das 17hs às 23hs):"
   ]
  },
  {
   "cell_type": "code",
   "execution_count": 32,
   "metadata": {
    "id": "yz7itPUQ_Zcu"
   },
   "outputs": [
    {
     "data": {
      "text/plain": [
       "genre\n",
       "pop            5892\n",
       "dance          4435\n",
       "rock           3965\n",
       "electronic     3786\n",
       "hiphop         2096\n",
       "classical      1616\n",
       "world          1432\n",
       "alternative    1379\n",
       "ruspop         1372\n",
       "rusrap         1161\n",
       "jazz            980\n",
       "unknown         849\n",
       "metal           832\n",
       "soundtrack      785\n",
       "folk            692\n",
       "Name: genre, dtype: int64"
      ]
     },
     "execution_count": 32,
     "metadata": {},
     "output_type": "execute_result"
    }
   ],
   "source": [
    "# chamando a função para segunda-feira de manha em Springfield (use spr_general em vez de df table)\n",
    "(genre_weekday(spr_general, day='Monday', time1='07:00', time2='11:00'))"
   ]
  },
  {
   "cell_type": "markdown",
   "metadata": {},
   "source": [
    "<div class=\"alert alert-block alert-success\">\n",
    "<b> Comentário do revisor: </b> <a class=\"tocSkip\"></a>\n",
    "\n",
    "Correto\n",
    "</div>"
   ]
  },
  {
   "cell_type": "code",
   "execution_count": 33,
   "metadata": {
    "id": "kwUcHPdy_Zcu"
   },
   "outputs": [
    {
     "data": {
      "text/plain": [
       "genre\n",
       "pop            2431\n",
       "dance          1932\n",
       "rock           1879\n",
       "electronic     1736\n",
       "hiphop          960\n",
       "alternative     649\n",
       "classical       646\n",
       "rusrap          564\n",
       "ruspop          538\n",
       "world           515\n",
       "jazz            486\n",
       "metal           378\n",
       "soundtrack      331\n",
       "rnb             321\n",
       "rap             309\n",
       "Name: genre, dtype: int64"
      ]
     },
     "execution_count": 33,
     "metadata": {},
     "output_type": "execute_result"
    }
   ],
   "source": [
    "# chamando a função para segunda-feira de manhã em Shelbyville (use shel_general em vez de df table)\n",
    "(genre_weekday(shel_general,day='Monday',time1='07:00',time2='11:00'))"
   ]
  },
  {
   "cell_type": "markdown",
   "metadata": {},
   "source": [
    "<div class=\"alert alert-block alert-success\">\n",
    "<b> Comentário do revisor: </b> <a class=\"tocSkip\"></a>\n",
    "\n",
    "Correto\n",
    "</div>"
   ]
  },
  {
   "cell_type": "code",
   "execution_count": 34,
   "metadata": {
    "id": "EzXVRE1o_Zcu"
   },
   "outputs": [
    {
     "data": {
      "text/plain": [
       "genre\n",
       "pop            1983\n",
       "dance          1430\n",
       "rock           1386\n",
       "electronic     1284\n",
       "hiphop          685\n",
       "world           501\n",
       "classical       487\n",
       "alternative     475\n",
       "ruspop          435\n",
       "rusrap          382\n",
       "jazz            332\n",
       "soundtrack      284\n",
       "unknown         255\n",
       "folk            237\n",
       "metal           233\n",
       "Name: genre, dtype: int64"
      ]
     },
     "execution_count": 34,
     "metadata": {},
     "output_type": "execute_result"
    }
   ],
   "source": [
    "# chamando a função para sexta-feira à tarde em Springfield\n",
    "(genre_weekday(spr_general,day='Friday',time1='17:00',time2='23:00'))"
   ]
  },
  {
   "cell_type": "markdown",
   "metadata": {},
   "source": [
    "<div class=\"alert alert-block alert-success\">\n",
    "<b> Comentário do revisor: </b> <a class=\"tocSkip\"></a>\n",
    "\n",
    "Correto\n",
    "</div>"
   ]
  },
  {
   "cell_type": "code",
   "execution_count": 35,
   "metadata": {
    "id": "JZaEKu5v_Zcu"
   },
   "outputs": [
    {
     "data": {
      "text/plain": [
       "genre\n",
       "pop            839\n",
       "rock           667\n",
       "electronic     649\n",
       "dance          626\n",
       "hiphop         332\n",
       "alternative    234\n",
       "classical      219\n",
       "rusrap         184\n",
       "jazz           179\n",
       "world          179\n",
       "ruspop         170\n",
       "metal          135\n",
       "soundtrack     123\n",
       "unknown        120\n",
       "folk           104\n",
       "Name: genre, dtype: int64"
      ]
     },
     "execution_count": 35,
     "metadata": {},
     "output_type": "execute_result"
    }
   ],
   "source": [
    "# chamando a função para sexta-feira à tarde em Shelbyville\n",
    "(genre_weekday(shel_general,day='Friday',time1='17:00',time2='23:00'))"
   ]
  },
  {
   "cell_type": "markdown",
   "metadata": {},
   "source": [
    "<div class=\"alert alert-block alert-success\">\n",
    "<b> Comentário do revisor: </b> <a class=\"tocSkip\"></a>\n",
    "\n",
    "Correto\n",
    "</div>"
   ]
  },
  {
   "cell_type": "markdown",
   "metadata": {
    "id": "wrCe4MNX_Zcu"
   },
   "source": [
    "**Conclusão**\n",
    "\n",
    "Tendo comparado os 15 gêneros mais ouvidos na segunda-feira de manhã, nós podemos tirar as seguintes conclusões:\n",
    "\n",
    "1. Usuários de Springfield e Shelbyville escutam músicas semelhantes. Os cinco gêneros mais ouvidos são os mesmos, apenas rock e música eletrônica trocaram de lugar.\n",
    "\n",
    "2. Em Springfield, a quantidade de valores ausentes acabaram por serem tantos que o valor `'unknown'` veio em 10º. Isso significa que valores ausentes tiveram uma considerável porção dos dados, que pode ser a base para questionamentos a confiabilidade das conclusões.\n",
    "\n",
    "Para sexta-feira à tarde, a situação é parecida. Gêneros individuais variam um pouco, mas no todo, os 15 gêneros mais ouvidos são parecidos para as duas cidades.\n",
    "\n",
    "Assim, a segunda hipótese foi parcialmente provada:\n",
    "* Usuários escutam gêneros musicais parecidos no começo e no fim da semana.\n",
    "* Não há grande diferença entre Springfield e Shelbyville. Nas duas cidades, pop é o gênero mais popular.\n",
    "\n",
    "No entanto, o número de valores ausentes faz esse resultado ser questionável. Em Springfield, há tantos que eles afetaram o top 15. Se não nos faltassem esses valores, as coisas poderiam ser diferentes."
   ]
  },
  {
   "cell_type": "markdown",
   "metadata": {
    "id": "jLmXgdanVyhP"
   },
   "source": [
    "[Voltar ao Índice](#back)"
   ]
  },
  {
   "cell_type": "markdown",
   "metadata": {
    "id": "JolODAqr_Zcu"
   },
   "source": [
    "### Hipótese 3: preferências em Springfield e Shelbyville <a id='genre'></a>\n",
    "\n",
    "Hipótese: Shelbyville ama rap. Cidadãos de Springfield curtem mais pop."
   ]
  },
  {
   "cell_type": "markdown",
   "metadata": {
    "id": "DlegSvaT_Zcu"
   },
   "source": [
    "Agrupe a tabela `spr_general` por gênero e encontre o número de músicas tocadas para cada gênero com o método `count()`. Depois organize o resultado em ordem decrescente e armazene-o em `spr_genres`."
   ]
  },
  {
   "cell_type": "code",
   "execution_count": 36,
   "metadata": {
    "id": "r19lIPke_Zcu"
   },
   "outputs": [],
   "source": [
    "# em uma linha: agrupe a tabela spr_general pela coluna 'genre', \n",
    "# conte os valores de 'genre' com count() no agrupamento, \n",
    "spr_general = spr_general.groupby('genre')['genre'].count()\n",
    "# organize o o objeto Series resultante em ordem decrescente, e armazene-o em spr_genres\n",
    "spr_genres = spr_general.sort_values(ascending=False)"
   ]
  },
  {
   "cell_type": "markdown",
   "metadata": {},
   "source": [
    "<div class=\"alert alert-block alert-success\">\n",
    "<b> Comentário do revisor: </b> <a class=\"tocSkip\"></a>\n",
    "\n",
    "Correto\n",
    "</div>"
   ]
  },
  {
   "cell_type": "markdown",
   "metadata": {
    "id": "6kMuomxTiIr8"
   },
   "source": [
    "Exiba as primeiras 10 linhas de `spr_genres`:"
   ]
  },
  {
   "cell_type": "code",
   "execution_count": 37,
   "metadata": {
    "id": "WhCSooF8_Zcv"
   },
   "outputs": [
    {
     "data": {
      "text/plain": [
       "genre\n",
       "pop            5892\n",
       "dance          4435\n",
       "rock           3965\n",
       "electronic     3786\n",
       "hiphop         2096\n",
       "classical      1616\n",
       "world          1432\n",
       "alternative    1379\n",
       "ruspop         1372\n",
       "rusrap         1161\n",
       "Name: genre, dtype: int64"
      ]
     },
     "execution_count": 37,
     "metadata": {},
     "output_type": "execute_result"
    }
   ],
   "source": [
    "# exibindo as primeiras 10 linhas de spr_genres\n",
    "spr_genres.head(10)"
   ]
  },
  {
   "cell_type": "markdown",
   "metadata": {},
   "source": [
    "<div class=\"alert alert-block alert-success\">\n",
    "<b> Comentário do revisor: </b> <a class=\"tocSkip\"></a>\n",
    "\n",
    "Correto\n",
    "</div>"
   ]
  },
  {
   "cell_type": "markdown",
   "metadata": {
    "id": "cnPG2vnN_Zcv"
   },
   "source": [
    "Agora faça o mesmo com os dados de Shelbyville.\n",
    "\n",
    "Agrupe a tabela `shel_general` por gênero e encontre o número de músicas tocadas de cada gênero. Depois organize o resultado em ordem decrescente e armazene-o na tabela `shel_genres`:\n"
   ]
  },
  {
   "cell_type": "code",
   "execution_count": 38,
   "metadata": {
    "id": "gluLIpE7_Zcv"
   },
   "outputs": [],
   "source": [
    "# na linha um: agrupe a tabela shel_general pela coluna 'genre', \n",
    "# conte os valores 'genre' no agrupamento com count(), \n",
    "shel_general = shel_general.groupby('genre')['genre'].count()\n",
    "# organize a o objeto Series resultante em ordem decrescente e armazene-o em shel_genres\n",
    "shel_genres = shel_general.sort_values(ascending=False)"
   ]
  },
  {
   "cell_type": "markdown",
   "metadata": {},
   "source": [
    "<div class=\"alert alert-block alert-success\">\n",
    "<b> Comentário do revisor: </b> <a class=\"tocSkip\"></a>\n",
    "\n",
    "Correto\n",
    "</div>"
   ]
  },
  {
   "cell_type": "markdown",
   "metadata": {
    "id": "5Doha_ODgyQ8"
   },
   "source": [
    "Exiba as 10 primeiras linhas de `shel_genres`:"
   ]
  },
  {
   "cell_type": "code",
   "execution_count": 39,
   "metadata": {
    "id": "uaGJHjVU_Zcv"
   },
   "outputs": [
    {
     "data": {
      "text/plain": [
       "genre\n",
       "pop            2431\n",
       "dance          1932\n",
       "rock           1879\n",
       "electronic     1736\n",
       "hiphop          960\n",
       "alternative     649\n",
       "classical       646\n",
       "rusrap          564\n",
       "ruspop          538\n",
       "world           515\n",
       "Name: genre, dtype: int64"
      ]
     },
     "execution_count": 39,
     "metadata": {},
     "output_type": "execute_result"
    }
   ],
   "source": [
    "# exibindo as 10 primeiras linhas de shel_genres\n",
    "shel_genres.head(10)"
   ]
  },
  {
   "cell_type": "markdown",
   "metadata": {},
   "source": [
    "<div class=\"alert alert-block alert-success\">\n",
    "<b> Comentário do revisor: </b> <a class=\"tocSkip\"></a>\n",
    "\n",
    "Correto\n",
    "</div>"
   ]
  },
  {
   "cell_type": "markdown",
   "metadata": {
    "id": "RY51YJYu_Zcv"
   },
   "source": [
    "**Conclusão**"
   ]
  },
  {
   "cell_type": "markdown",
   "metadata": {
    "id": "nVhnJEm__Zcv"
   },
   "source": [
    "A hipótese foi parcialmente provada:\n",
    "* Música pop é o gênero mais em Springfield, como esperado.\n",
    "* Entretanto, música pop acabou por ser igualmente popular em Springfield e Shelbyville, e rap não estava no top 5 em nenhuma cidade.\n"
   ]
  },
  {
   "cell_type": "markdown",
   "metadata": {
    "id": "Byr0RfpPVz14"
   },
   "source": [
    "[Voltar ao Índice](#back)"
   ]
  },
  {
   "cell_type": "markdown",
   "metadata": {
    "id": "ykKQ0N65_Zcv"
   },
   "source": [
    "# Conclusões <a id='end'></a>"
   ]
  },
  {
   "cell_type": "markdown",
   "metadata": {
    "id": "tjUwbHb3_Zcv"
   },
   "source": [
    "Nós testamos as três hipóteses seguintes:\n",
    "\n",
    "1. A atividade do usuário varia dependendo do dia da semana e da cidade. \n",
    "2. Nas segundas-feiras de manhã, os habitantes de Springfield e Shelbyville escutam diferentes gêneros. Isso também é verdadeiro para noites de sexta-feira. \n",
    "3. Ouvintes de Springfield e Shelbyville têm preferências diferentes. Tanto em Springfield como Shellbyville, eles preferem pop.\n",
    "\n",
    "Depois de analisar os dados, nós concluímos:\n",
    "\n",
    "1. A atividade do usuário em Springfield e Shelbyville depende do dia da semana, embora as cidades variam de formas diferentes. \n",
    "\n",
    "A primeira hipótese é totalmente aceita.\n",
    "\n",
    "2. As preferências musicais não variam significativamente ao decorrer da semana tanto em Springfield como em Shelbyville. Nós podemos ver pequenas diferenças na ordem nas segundas-feiras, mas:\n",
    "* Em Springfield e Shelbyville, as pessoas escutam mais música pop.\n",
    "\n",
    "Então nós podemos aceitar essa hipótese. Nós devemos também ter em mente que o resultado pode ter sido diferente se não fosse pelos valores ausentes.\n",
    "\n",
    "3. Acontece que preferências musicais dos usuários de Springfield e Shelbyville são bastante parecidas.\n",
    "\n",
    "A terceira hipótese foi rejeitada. Se há alguma diferença nas preferências, ela não pode ser vista nesses dados.\n",
    "\n",
    "### Observação \n",
    "Em projetos reais, pesquisas envolvendo teste estatístico de hipóteses, que é mais preciso e mais quantitativo. Também perceba que você não pode sempre tirar conclusões sobre uma cidade inteira com base em dados de apenas uma fonte.\n",
    "\n",
    "Você vai estudar teste de hipóteses no sprint sobre análise estatística de dados."
   ]
  },
  {
   "cell_type": "markdown",
   "metadata": {},
   "source": [
    "<div class=\"alert alert-block alert-success\">\n",
    "<b>Comentário Geral do Revisor</b> <a class=\"tocSkip\"></a>\n",
    "\n",
    "Obrigado por enviar seu projeto. \n",
    "    \n",
    "Parabéns, você fez um bom trabalho. No geral, você respondeu corretamente as questões.\n",
    "    \n",
    "<span class=\"text-danger\">Porém, há espaço para melhorias conforme os itens apontados anteriormente. Destaco os pontos a seguir: </span>\n",
    " * <span class=\"text-danger\"> Criar corretamente o dataframe. </span>\n",
    "\n",
    "Portanto, sugiro que você corrija os pontos indicados. Caso você tenha alguma dúvida, não hesite em me contactar.\n",
    "    \n",
    "Bom trabalho.  </s>\n",
    "</div>"
   ]
  },
  {
   "cell_type": "markdown",
   "metadata": {},
   "source": [
    "<div class=\"alert alert-block alert-success\">\n",
    "<b>Comentário Geral do Revisor</b> <a class=\"tocSkip\"></a>\n",
    "\n",
    "Você fez todas as correções. Fiz uma pequena observação quanto à criação do dataframe. Bom trabalho!\n",
    "</div>"
   ]
  },
  {
   "cell_type": "markdown",
   "metadata": {
    "id": "Ju4AHDSgV1FE"
   },
   "source": [
    "[Voltar ao Índice](#back)"
   ]
  }
 ],
 "metadata": {
  "ExecuteTimeLog": [
   {
    "duration": 376,
    "start_time": "2022-08-07T21:01:46.566Z"
   },
   {
    "duration": 88,
    "start_time": "2022-08-07T21:02:10.377Z"
   },
   {
    "duration": 54,
    "start_time": "2022-08-07T21:02:16.209Z"
   },
   {
    "duration": 9,
    "start_time": "2022-08-07T21:02:42.381Z"
   },
   {
    "duration": 7,
    "start_time": "2022-08-07T21:03:06.852Z"
   },
   {
    "duration": 3,
    "start_time": "2022-08-07T21:04:18.339Z"
   },
   {
    "duration": 51,
    "start_time": "2022-08-07T21:04:21.050Z"
   },
   {
    "duration": 8,
    "start_time": "2022-08-07T21:04:41.481Z"
   },
   {
    "duration": 44,
    "start_time": "2022-08-07T21:08:05.499Z"
   },
   {
    "duration": 7,
    "start_time": "2022-08-07T21:08:31.815Z"
   },
   {
    "duration": 411,
    "start_time": "2022-08-07T21:08:46.499Z"
   },
   {
    "duration": 216,
    "start_time": "2022-08-07T21:08:49.006Z"
   },
   {
    "duration": 129,
    "start_time": "2022-08-07T21:09:10.374Z"
   },
   {
    "duration": 30,
    "start_time": "2022-08-07T21:09:22.014Z"
   },
   {
    "duration": 125,
    "start_time": "2022-08-07T21:09:29.608Z"
   },
   {
    "duration": 7,
    "start_time": "2022-08-07T21:11:34.208Z"
   },
   {
    "duration": 8,
    "start_time": "2022-08-07T21:11:46.618Z"
   },
   {
    "duration": 116,
    "start_time": "2022-08-07T21:12:11.415Z"
   },
   {
    "duration": 13,
    "start_time": "2022-08-07T21:12:17.132Z"
   },
   {
    "duration": 157,
    "start_time": "2022-08-07T21:12:20.193Z"
   },
   {
    "duration": 3,
    "start_time": "2022-08-07T21:12:21.965Z"
   },
   {
    "duration": 173,
    "start_time": "2022-08-07T21:12:28.041Z"
   },
   {
    "duration": 131,
    "start_time": "2022-08-07T21:12:30.418Z"
   },
   {
    "duration": 2,
    "start_time": "2022-08-07T21:13:58.237Z"
   },
   {
    "duration": 2,
    "start_time": "2022-08-07T21:14:37.110Z"
   },
   {
    "duration": 172,
    "start_time": "2022-08-07T21:14:44.325Z"
   },
   {
    "duration": 4,
    "start_time": "2022-08-07T21:14:47.305Z"
   },
   {
    "duration": 167,
    "start_time": "2022-08-07T21:14:49.304Z"
   },
   {
    "duration": 129,
    "start_time": "2022-08-07T21:14:51.015Z"
   },
   {
    "duration": 7,
    "start_time": "2022-08-07T21:14:54.825Z"
   },
   {
    "duration": 14,
    "start_time": "2022-08-07T21:17:53.335Z"
   },
   {
    "duration": 37,
    "start_time": "2022-08-07T21:20:45.266Z"
   },
   {
    "duration": 5,
    "start_time": "2022-08-07T21:24:47.205Z"
   },
   {
    "duration": 49,
    "start_time": "2022-08-07T21:32:51.445Z"
   },
   {
    "duration": 46,
    "start_time": "2022-08-07T21:33:16.297Z"
   },
   {
    "duration": 7,
    "start_time": "2022-08-07T21:33:38.656Z"
   },
   {
    "duration": 4,
    "start_time": "2022-08-07T21:33:59.067Z"
   },
   {
    "duration": 14,
    "start_time": "2022-08-07T21:34:55.905Z"
   },
   {
    "duration": 4,
    "start_time": "2022-08-07T21:34:58.546Z"
   },
   {
    "duration": 9,
    "start_time": "2022-08-07T21:35:05.984Z"
   },
   {
    "duration": 4,
    "start_time": "2022-08-07T21:35:08.903Z"
   },
   {
    "duration": 9,
    "start_time": "2022-08-07T21:35:19.114Z"
   },
   {
    "duration": 4,
    "start_time": "2022-08-07T21:35:21.757Z"
   },
   {
    "duration": 9,
    "start_time": "2022-08-07T21:35:36.228Z"
   },
   {
    "duration": 3,
    "start_time": "2022-08-07T21:35:39.668Z"
   },
   {
    "duration": 48,
    "start_time": "2022-08-07T21:35:49.574Z"
   },
   {
    "duration": 396,
    "start_time": "2022-08-07T21:36:02.128Z"
   },
   {
    "duration": 163,
    "start_time": "2022-08-07T21:36:02.526Z"
   },
   {
    "duration": 143,
    "start_time": "2022-08-07T21:36:02.691Z"
   },
   {
    "duration": 11,
    "start_time": "2022-08-07T21:36:02.837Z"
   },
   {
    "duration": 30,
    "start_time": "2022-08-07T21:36:02.850Z"
   },
   {
    "duration": 27,
    "start_time": "2022-08-07T21:36:02.882Z"
   },
   {
    "duration": 21,
    "start_time": "2022-08-07T21:36:02.911Z"
   },
   {
    "duration": 11,
    "start_time": "2022-08-07T21:36:02.934Z"
   },
   {
    "duration": 9,
    "start_time": "2022-08-07T21:36:02.947Z"
   },
   {
    "duration": 7,
    "start_time": "2022-08-07T21:36:02.961Z"
   },
   {
    "duration": 8,
    "start_time": "2022-08-07T21:36:02.969Z"
   },
   {
    "duration": 10,
    "start_time": "2022-08-07T21:36:02.979Z"
   },
   {
    "duration": 9,
    "start_time": "2022-08-07T21:36:02.990Z"
   },
   {
    "duration": 17,
    "start_time": "2022-08-07T21:36:03.001Z"
   },
   {
    "duration": 19,
    "start_time": "2022-08-07T21:36:03.020Z"
   },
   {
    "duration": 10,
    "start_time": "2022-08-07T21:36:03.041Z"
   },
   {
    "duration": 6,
    "start_time": "2022-08-07T21:36:03.053Z"
   },
   {
    "duration": 11,
    "start_time": "2022-08-07T21:36:03.061Z"
   },
   {
    "duration": 11,
    "start_time": "2022-08-07T21:36:03.074Z"
   },
   {
    "duration": 7,
    "start_time": "2022-08-07T21:36:03.087Z"
   },
   {
    "duration": 7,
    "start_time": "2022-08-07T21:36:03.096Z"
   },
   {
    "duration": 15,
    "start_time": "2022-08-07T21:36:03.104Z"
   },
   {
    "duration": 5,
    "start_time": "2022-08-07T21:36:03.121Z"
   },
   {
    "duration": 5,
    "start_time": "2022-08-07T21:36:03.128Z"
   },
   {
    "duration": 5,
    "start_time": "2022-08-07T21:36:03.135Z"
   },
   {
    "duration": 7,
    "start_time": "2022-08-07T21:36:03.142Z"
   },
   {
    "duration": 13,
    "start_time": "2022-08-07T21:36:03.151Z"
   },
   {
    "duration": 11,
    "start_time": "2022-08-07T21:36:03.168Z"
   },
   {
    "duration": 7,
    "start_time": "2022-08-07T21:36:03.181Z"
   },
   {
    "duration": 19,
    "start_time": "2022-08-07T21:36:03.190Z"
   },
   {
    "duration": 44,
    "start_time": "2022-08-07T21:36:03.211Z"
   },
   {
    "duration": 0,
    "start_time": "2022-08-07T21:36:03.257Z"
   },
   {
    "duration": 0,
    "start_time": "2022-08-07T21:36:03.258Z"
   },
   {
    "duration": 0,
    "start_time": "2022-08-07T21:36:03.260Z"
   },
   {
    "duration": 0,
    "start_time": "2022-08-07T21:36:03.262Z"
   },
   {
    "duration": 0,
    "start_time": "2022-08-07T21:36:03.264Z"
   },
   {
    "duration": 0,
    "start_time": "2022-08-07T21:36:03.265Z"
   },
   {
    "duration": 0,
    "start_time": "2022-08-07T21:36:03.267Z"
   },
   {
    "duration": 0,
    "start_time": "2022-08-07T21:36:03.268Z"
   },
   {
    "duration": 23,
    "start_time": "2022-08-07T21:42:37.517Z"
   },
   {
    "duration": 25,
    "start_time": "2022-08-07T21:50:20.513Z"
   },
   {
    "duration": 10,
    "start_time": "2022-08-07T21:50:24.482Z"
   },
   {
    "duration": 24,
    "start_time": "2022-08-07T21:50:34.857Z"
   },
   {
    "duration": 38,
    "start_time": "2022-08-07T21:52:31.232Z"
   },
   {
    "duration": 36,
    "start_time": "2022-08-07T21:52:34.340Z"
   },
   {
    "duration": 62,
    "start_time": "2022-08-07T21:59:34.422Z"
   },
   {
    "duration": 83,
    "start_time": "2022-08-07T22:00:51.319Z"
   },
   {
    "duration": 67,
    "start_time": "2022-08-07T22:01:00.491Z"
   },
   {
    "duration": 6,
    "start_time": "2022-08-07T22:01:22.966Z"
   },
   {
    "duration": 69,
    "start_time": "2022-08-07T22:01:37.381Z"
   },
   {
    "duration": 68,
    "start_time": "2022-08-07T22:02:11.231Z"
   },
   {
    "duration": 65,
    "start_time": "2022-08-07T22:02:36.523Z"
   },
   {
    "duration": 10,
    "start_time": "2022-08-07T22:02:47.038Z"
   },
   {
    "duration": 68,
    "start_time": "2022-08-07T22:02:59.784Z"
   },
   {
    "duration": 3,
    "start_time": "2022-08-07T22:03:07.610Z"
   },
   {
    "duration": 179,
    "start_time": "2022-08-07T22:03:07.615Z"
   },
   {
    "duration": 132,
    "start_time": "2022-08-07T22:03:07.796Z"
   },
   {
    "duration": 17,
    "start_time": "2022-08-07T22:03:07.932Z"
   },
   {
    "duration": 71,
    "start_time": "2022-08-07T22:03:07.952Z"
   },
   {
    "duration": 3,
    "start_time": "2022-08-07T22:03:08.026Z"
   },
   {
    "duration": 18,
    "start_time": "2022-08-07T22:03:08.031Z"
   },
   {
    "duration": 21,
    "start_time": "2022-08-07T22:03:08.050Z"
   },
   {
    "duration": 27,
    "start_time": "2022-08-07T22:03:08.074Z"
   },
   {
    "duration": 21,
    "start_time": "2022-08-07T22:03:08.103Z"
   },
   {
    "duration": 24,
    "start_time": "2022-08-07T22:03:08.125Z"
   },
   {
    "duration": 79,
    "start_time": "2022-08-07T22:03:08.150Z"
   },
   {
    "duration": 3,
    "start_time": "2022-08-07T22:03:08.230Z"
   },
   {
    "duration": 7,
    "start_time": "2022-08-07T22:03:08.234Z"
   },
   {
    "duration": 5,
    "start_time": "2022-08-07T22:03:08.243Z"
   },
   {
    "duration": 5,
    "start_time": "2022-08-07T22:03:08.250Z"
   },
   {
    "duration": 5,
    "start_time": "2022-08-07T22:03:08.256Z"
   },
   {
    "duration": 5,
    "start_time": "2022-08-07T22:03:08.262Z"
   },
   {
    "duration": 6,
    "start_time": "2022-08-07T22:03:08.269Z"
   },
   {
    "duration": 7,
    "start_time": "2022-08-07T22:03:08.276Z"
   },
   {
    "duration": 5,
    "start_time": "2022-08-07T22:03:08.285Z"
   },
   {
    "duration": 2,
    "start_time": "2022-08-07T22:03:08.310Z"
   },
   {
    "duration": 6,
    "start_time": "2022-08-07T22:03:08.314Z"
   },
   {
    "duration": 5,
    "start_time": "2022-08-07T22:03:08.323Z"
   },
   {
    "duration": 5,
    "start_time": "2022-08-07T22:03:08.330Z"
   },
   {
    "duration": 6,
    "start_time": "2022-08-07T22:03:08.337Z"
   },
   {
    "duration": 5,
    "start_time": "2022-08-07T22:03:08.344Z"
   },
   {
    "duration": 7,
    "start_time": "2022-08-07T22:03:08.351Z"
   },
   {
    "duration": 6,
    "start_time": "2022-08-07T22:03:08.360Z"
   },
   {
    "duration": 5,
    "start_time": "2022-08-07T22:03:08.368Z"
   },
   {
    "duration": 68,
    "start_time": "2022-08-07T22:03:08.375Z"
   },
   {
    "duration": 0,
    "start_time": "2022-08-07T22:03:08.444Z"
   },
   {
    "duration": 0,
    "start_time": "2022-08-07T22:03:08.445Z"
   },
   {
    "duration": 0,
    "start_time": "2022-08-07T22:03:08.446Z"
   },
   {
    "duration": 0,
    "start_time": "2022-08-07T22:03:08.447Z"
   },
   {
    "duration": 0,
    "start_time": "2022-08-07T22:03:08.449Z"
   },
   {
    "duration": 0,
    "start_time": "2022-08-07T22:03:08.449Z"
   },
   {
    "duration": 0,
    "start_time": "2022-08-07T22:03:08.450Z"
   },
   {
    "duration": 0,
    "start_time": "2022-08-07T22:03:08.452Z"
   },
   {
    "duration": 66,
    "start_time": "2022-08-07T22:03:25.610Z"
   },
   {
    "duration": 116,
    "start_time": "2022-08-07T22:04:50.946Z"
   },
   {
    "duration": 122,
    "start_time": "2022-08-07T22:05:20.721Z"
   },
   {
    "duration": 59,
    "start_time": "2022-08-07T22:10:19.521Z"
   },
   {
    "duration": 143,
    "start_time": "2022-08-07T22:10:58.215Z"
   },
   {
    "duration": 10,
    "start_time": "2022-08-07T22:21:24.025Z"
   },
   {
    "duration": 62,
    "start_time": "2022-08-07T22:21:37.922Z"
   },
   {
    "duration": 54,
    "start_time": "2022-08-07T22:21:54.941Z"
   },
   {
    "duration": 114,
    "start_time": "2022-08-07T22:22:02.895Z"
   },
   {
    "duration": 6,
    "start_time": "2022-08-07T22:24:33.347Z"
   },
   {
    "duration": 62,
    "start_time": "2022-08-07T22:37:24.235Z"
   },
   {
    "duration": 3,
    "start_time": "2022-08-07T22:51:06.733Z"
   },
   {
    "duration": 36,
    "start_time": "2022-08-07T22:56:02.785Z"
   },
   {
    "duration": 12,
    "start_time": "2022-08-07T22:56:49.031Z"
   },
   {
    "duration": 2,
    "start_time": "2022-08-07T23:51:51.034Z"
   },
   {
    "duration": 19,
    "start_time": "2022-08-07T23:51:53.805Z"
   },
   {
    "duration": 8,
    "start_time": "2022-08-07T23:56:42.585Z"
   },
   {
    "duration": 4,
    "start_time": "2022-08-07T23:57:09.224Z"
   },
   {
    "duration": 8,
    "start_time": "2022-08-07T23:58:00.469Z"
   },
   {
    "duration": 8,
    "start_time": "2022-08-07T23:58:41.732Z"
   },
   {
    "duration": 24,
    "start_time": "2022-08-07T23:59:49.352Z"
   },
   {
    "duration": 15,
    "start_time": "2022-08-08T00:00:14.096Z"
   },
   {
    "duration": 9,
    "start_time": "2022-08-08T00:00:25.758Z"
   },
   {
    "duration": 27,
    "start_time": "2022-08-08T00:00:52.272Z"
   },
   {
    "duration": 3,
    "start_time": "2022-08-08T00:01:02.277Z"
   },
   {
    "duration": 198,
    "start_time": "2022-08-08T00:01:02.282Z"
   },
   {
    "duration": 144,
    "start_time": "2022-08-08T00:01:02.483Z"
   },
   {
    "duration": 11,
    "start_time": "2022-08-08T00:01:02.629Z"
   },
   {
    "duration": 33,
    "start_time": "2022-08-08T00:01:02.642Z"
   },
   {
    "duration": 4,
    "start_time": "2022-08-08T00:01:02.676Z"
   },
   {
    "duration": 13,
    "start_time": "2022-08-08T00:01:02.681Z"
   },
   {
    "duration": 6,
    "start_time": "2022-08-08T00:01:02.709Z"
   },
   {
    "duration": 59,
    "start_time": "2022-08-08T00:01:02.723Z"
   },
   {
    "duration": 51,
    "start_time": "2022-08-08T00:01:02.784Z"
   },
   {
    "duration": 26,
    "start_time": "2022-08-08T00:01:02.837Z"
   },
   {
    "duration": 82,
    "start_time": "2022-08-08T00:01:02.865Z"
   },
   {
    "duration": 80,
    "start_time": "2022-08-08T00:01:02.949Z"
   },
   {
    "duration": 63,
    "start_time": "2022-08-08T00:01:03.031Z"
   },
   {
    "duration": 64,
    "start_time": "2022-08-08T00:01:03.095Z"
   },
   {
    "duration": 3,
    "start_time": "2022-08-08T00:01:03.161Z"
   },
   {
    "duration": 50,
    "start_time": "2022-08-08T00:01:03.166Z"
   },
   {
    "duration": 2,
    "start_time": "2022-08-08T00:01:03.219Z"
   },
   {
    "duration": 7,
    "start_time": "2022-08-08T00:01:03.223Z"
   },
   {
    "duration": 13,
    "start_time": "2022-08-08T00:01:03.232Z"
   },
   {
    "duration": 12,
    "start_time": "2022-08-08T00:01:03.247Z"
   },
   {
    "duration": 9,
    "start_time": "2022-08-08T00:01:03.261Z"
   },
   {
    "duration": 7,
    "start_time": "2022-08-08T00:01:03.272Z"
   },
   {
    "duration": 6,
    "start_time": "2022-08-08T00:01:03.283Z"
   },
   {
    "duration": 18,
    "start_time": "2022-08-08T00:01:03.291Z"
   },
   {
    "duration": 7,
    "start_time": "2022-08-08T00:01:03.311Z"
   },
   {
    "duration": 6,
    "start_time": "2022-08-08T00:01:03.319Z"
   },
   {
    "duration": 4,
    "start_time": "2022-08-08T00:01:03.327Z"
   },
   {
    "duration": 13,
    "start_time": "2022-08-08T00:01:03.333Z"
   },
   {
    "duration": 11,
    "start_time": "2022-08-08T00:01:03.348Z"
   },
   {
    "duration": 55,
    "start_time": "2022-08-08T00:01:03.361Z"
   },
   {
    "duration": 0,
    "start_time": "2022-08-08T00:01:03.418Z"
   },
   {
    "duration": 0,
    "start_time": "2022-08-08T00:01:03.419Z"
   },
   {
    "duration": 0,
    "start_time": "2022-08-08T00:01:03.421Z"
   },
   {
    "duration": 0,
    "start_time": "2022-08-08T00:01:03.422Z"
   },
   {
    "duration": 0,
    "start_time": "2022-08-08T00:01:03.423Z"
   },
   {
    "duration": 0,
    "start_time": "2022-08-08T00:01:03.425Z"
   },
   {
    "duration": 0,
    "start_time": "2022-08-08T00:01:03.426Z"
   },
   {
    "duration": 0,
    "start_time": "2022-08-08T00:01:03.427Z"
   },
   {
    "duration": 25,
    "start_time": "2022-08-08T00:01:14.981Z"
   },
   {
    "duration": 59,
    "start_time": "2022-08-08T00:01:47.538Z"
   },
   {
    "duration": 70,
    "start_time": "2022-08-08T00:02:43.256Z"
   },
   {
    "duration": 61,
    "start_time": "2022-08-08T00:03:28.861Z"
   },
   {
    "duration": 50,
    "start_time": "2022-08-08T00:05:33.294Z"
   },
   {
    "duration": 72,
    "start_time": "2022-08-08T00:06:00.156Z"
   },
   {
    "duration": 8,
    "start_time": "2022-08-08T00:13:39.805Z"
   },
   {
    "duration": 11,
    "start_time": "2022-08-08T00:13:56.458Z"
   },
   {
    "duration": 3,
    "start_time": "2022-08-08T00:14:07.257Z"
   },
   {
    "duration": 19,
    "start_time": "2022-08-08T00:16:47.405Z"
   },
   {
    "duration": 3,
    "start_time": "2022-08-08T00:17:17.702Z"
   },
   {
    "duration": 11,
    "start_time": "2022-08-08T00:23:54.455Z"
   },
   {
    "duration": 18,
    "start_time": "2022-08-08T00:24:16.887Z"
   },
   {
    "duration": 28,
    "start_time": "2022-08-08T00:25:15.150Z"
   },
   {
    "duration": 33,
    "start_time": "2022-08-08T00:33:03.697Z"
   },
   {
    "duration": 21,
    "start_time": "2022-08-08T00:33:27.556Z"
   },
   {
    "duration": 21,
    "start_time": "2022-08-08T00:33:37.953Z"
   },
   {
    "duration": 25,
    "start_time": "2022-08-08T00:35:04.995Z"
   },
   {
    "duration": 24,
    "start_time": "2022-08-08T00:36:40.964Z"
   },
   {
    "duration": 48,
    "start_time": "2022-08-08T00:38:52.115Z"
   },
   {
    "duration": 60,
    "start_time": "2022-08-08T00:39:08.062Z"
   },
   {
    "duration": 26,
    "start_time": "2022-08-08T00:40:10.698Z"
   },
   {
    "duration": 61,
    "start_time": "2022-08-08T00:40:30.207Z"
   },
   {
    "duration": 25,
    "start_time": "2022-08-08T00:40:37.365Z"
   },
   {
    "duration": 41,
    "start_time": "2022-08-08T00:42:33.485Z"
   },
   {
    "duration": 25,
    "start_time": "2022-08-08T00:42:42.302Z"
   },
   {
    "duration": 5,
    "start_time": "2022-08-08T00:44:56.990Z"
   },
   {
    "duration": 6,
    "start_time": "2022-08-08T00:45:15.652Z"
   },
   {
    "duration": 4,
    "start_time": "2022-08-08T00:45:20.563Z"
   },
   {
    "duration": 25,
    "start_time": "2022-08-08T00:48:15.464Z"
   },
   {
    "duration": 37,
    "start_time": "2022-08-08T00:48:19.092Z"
   },
   {
    "duration": 45,
    "start_time": "2022-08-08T00:49:47.681Z"
   },
   {
    "duration": 48,
    "start_time": "2022-08-08T00:49:55.495Z"
   },
   {
    "duration": 34,
    "start_time": "2022-08-08T00:50:19.258Z"
   },
   {
    "duration": 41,
    "start_time": "2022-08-08T00:50:32.724Z"
   },
   {
    "duration": 38,
    "start_time": "2022-08-08T00:51:26.663Z"
   },
   {
    "duration": 29,
    "start_time": "2022-08-08T00:51:43.856Z"
   },
   {
    "duration": 25,
    "start_time": "2022-08-08T00:52:03.338Z"
   },
   {
    "duration": 25,
    "start_time": "2022-08-08T00:52:13.279Z"
   },
   {
    "duration": 36,
    "start_time": "2022-08-08T00:52:55.845Z"
   },
   {
    "duration": 160,
    "start_time": "2022-08-08T00:53:17.864Z"
   },
   {
    "duration": 29,
    "start_time": "2022-08-08T00:54:33.626Z"
   },
   {
    "duration": 44,
    "start_time": "2022-08-08T00:55:41.594Z"
   },
   {
    "duration": 386,
    "start_time": "2022-08-08T16:47:25.598Z"
   },
   {
    "duration": 216,
    "start_time": "2022-08-08T16:47:25.986Z"
   },
   {
    "duration": 114,
    "start_time": "2022-08-08T16:47:26.204Z"
   },
   {
    "duration": 9,
    "start_time": "2022-08-08T16:47:26.320Z"
   },
   {
    "duration": 30,
    "start_time": "2022-08-08T16:47:26.330Z"
   },
   {
    "duration": 3,
    "start_time": "2022-08-08T16:47:26.362Z"
   },
   {
    "duration": 15,
    "start_time": "2022-08-08T16:47:26.366Z"
   },
   {
    "duration": 18,
    "start_time": "2022-08-08T16:47:26.382Z"
   },
   {
    "duration": 26,
    "start_time": "2022-08-08T16:47:26.402Z"
   },
   {
    "duration": 17,
    "start_time": "2022-08-08T16:47:26.432Z"
   },
   {
    "duration": 24,
    "start_time": "2022-08-08T16:47:26.451Z"
   },
   {
    "duration": 70,
    "start_time": "2022-08-08T16:47:26.476Z"
   },
   {
    "duration": 72,
    "start_time": "2022-08-08T16:47:26.548Z"
   },
   {
    "duration": 51,
    "start_time": "2022-08-08T16:47:26.621Z"
   },
   {
    "duration": 54,
    "start_time": "2022-08-08T16:47:26.673Z"
   },
   {
    "duration": 2,
    "start_time": "2022-08-08T16:47:26.729Z"
   },
   {
    "duration": 27,
    "start_time": "2022-08-08T16:47:26.732Z"
   },
   {
    "duration": 49,
    "start_time": "2022-08-08T16:47:26.760Z"
   },
   {
    "duration": 21,
    "start_time": "2022-08-08T16:47:26.810Z"
   },
   {
    "duration": 26,
    "start_time": "2022-08-08T16:47:26.833Z"
   },
   {
    "duration": 3,
    "start_time": "2022-08-08T16:47:26.860Z"
   },
   {
    "duration": 6,
    "start_time": "2022-08-08T16:47:26.864Z"
   },
   {
    "duration": 6,
    "start_time": "2022-08-08T16:47:26.871Z"
   },
   {
    "duration": 8,
    "start_time": "2022-08-08T16:47:26.900Z"
   },
   {
    "duration": 7,
    "start_time": "2022-08-08T16:47:26.910Z"
   },
   {
    "duration": 10,
    "start_time": "2022-08-08T16:47:26.918Z"
   },
   {
    "duration": 5,
    "start_time": "2022-08-08T16:47:26.930Z"
   },
   {
    "duration": 19,
    "start_time": "2022-08-08T16:47:26.938Z"
   },
   {
    "duration": 5,
    "start_time": "2022-08-08T16:47:26.959Z"
   },
   {
    "duration": 5,
    "start_time": "2022-08-08T16:47:26.965Z"
   },
   {
    "duration": 53,
    "start_time": "2022-08-08T16:47:26.971Z"
   },
   {
    "duration": 1,
    "start_time": "2022-08-08T16:47:27.026Z"
   },
   {
    "duration": 0,
    "start_time": "2022-08-08T16:47:27.028Z"
   },
   {
    "duration": 0,
    "start_time": "2022-08-08T16:47:27.029Z"
   },
   {
    "duration": 0,
    "start_time": "2022-08-08T16:47:27.030Z"
   },
   {
    "duration": 0,
    "start_time": "2022-08-08T16:47:27.032Z"
   },
   {
    "duration": 0,
    "start_time": "2022-08-08T16:47:27.033Z"
   },
   {
    "duration": 0,
    "start_time": "2022-08-08T16:47:27.034Z"
   },
   {
    "duration": 0,
    "start_time": "2022-08-08T16:47:27.035Z"
   },
   {
    "duration": 3,
    "start_time": "2022-08-08T17:16:58.002Z"
   },
   {
    "duration": 77,
    "start_time": "2022-08-08T17:18:28.279Z"
   },
   {
    "duration": 26,
    "start_time": "2022-08-08T17:19:30.727Z"
   },
   {
    "duration": 22,
    "start_time": "2022-08-08T17:19:45.590Z"
   },
   {
    "duration": 5,
    "start_time": "2022-08-08T17:20:32.989Z"
   },
   {
    "duration": 4,
    "start_time": "2022-08-08T17:21:13.537Z"
   },
   {
    "duration": 18,
    "start_time": "2022-08-08T17:21:17.595Z"
   },
   {
    "duration": 15,
    "start_time": "2022-08-08T17:21:46.357Z"
   },
   {
    "duration": 3,
    "start_time": "2022-08-08T17:21:48.426Z"
   },
   {
    "duration": 17,
    "start_time": "2022-08-08T17:22:37.874Z"
   },
   {
    "duration": 14,
    "start_time": "2022-08-08T17:25:33.335Z"
   },
   {
    "duration": 14,
    "start_time": "2022-08-08T17:25:36.185Z"
   },
   {
    "duration": 17,
    "start_time": "2022-08-08T17:26:22.110Z"
   },
   {
    "duration": 16,
    "start_time": "2022-08-08T17:26:24.798Z"
   },
   {
    "duration": 44,
    "start_time": "2022-08-08T19:18:07.441Z"
   },
   {
    "duration": 39,
    "start_time": "2022-08-08T19:18:30.305Z"
   },
   {
    "duration": 32,
    "start_time": "2022-08-08T19:21:16.997Z"
   },
   {
    "duration": 11,
    "start_time": "2022-08-08T19:48:42.617Z"
   },
   {
    "duration": 10,
    "start_time": "2022-08-08T19:48:45.811Z"
   },
   {
    "duration": 11,
    "start_time": "2022-08-08T19:52:18.935Z"
   },
   {
    "duration": 48,
    "start_time": "2022-08-08T20:33:41.616Z"
   },
   {
    "duration": 17,
    "start_time": "2022-08-08T20:34:14.994Z"
   },
   {
    "duration": 4,
    "start_time": "2022-08-08T20:35:12.278Z"
   },
   {
    "duration": 13,
    "start_time": "2022-08-08T20:37:40.658Z"
   },
   {
    "duration": 10,
    "start_time": "2022-08-08T20:37:43.766Z"
   },
   {
    "duration": 4,
    "start_time": "2022-08-08T20:42:14.451Z"
   },
   {
    "duration": 100,
    "start_time": "2022-08-08T20:44:18.623Z"
   },
   {
    "duration": 8,
    "start_time": "2022-08-08T20:45:23.933Z"
   },
   {
    "duration": 188,
    "start_time": "2022-08-08T20:46:42.612Z"
   },
   {
    "duration": 24,
    "start_time": "2022-08-08T20:48:01.736Z"
   },
   {
    "duration": 4,
    "start_time": "2022-08-08T20:51:24.100Z"
   },
   {
    "duration": 23,
    "start_time": "2022-08-08T20:51:27.418Z"
   },
   {
    "duration": 4,
    "start_time": "2022-08-08T20:52:12.790Z"
   },
   {
    "duration": 19,
    "start_time": "2022-08-08T20:52:19.641Z"
   },
   {
    "duration": 22,
    "start_time": "2022-08-08T20:53:45.791Z"
   },
   {
    "duration": 7,
    "start_time": "2022-08-08T20:54:20.839Z"
   },
   {
    "duration": 20,
    "start_time": "2022-08-08T20:56:44.425Z"
   },
   {
    "duration": 71,
    "start_time": "2022-08-08T21:00:33.664Z"
   },
   {
    "duration": 4,
    "start_time": "2022-08-08T21:00:39.088Z"
   },
   {
    "duration": 3,
    "start_time": "2022-08-08T21:01:44.445Z"
   },
   {
    "duration": 20,
    "start_time": "2022-08-08T21:04:15.845Z"
   },
   {
    "duration": 4,
    "start_time": "2022-08-08T21:06:53.495Z"
   },
   {
    "duration": 19,
    "start_time": "2022-08-08T21:06:56.623Z"
   },
   {
    "duration": 47,
    "start_time": "2022-08-08T22:38:43.570Z"
   },
   {
    "duration": 48,
    "start_time": "2022-08-08T22:43:18.844Z"
   },
   {
    "duration": 28,
    "start_time": "2022-08-08T22:48:36.019Z"
   },
   {
    "duration": 38,
    "start_time": "2022-08-08T22:48:58.855Z"
   },
   {
    "duration": 49,
    "start_time": "2022-08-08T22:50:07.697Z"
   },
   {
    "duration": 30,
    "start_time": "2022-08-08T22:50:32.859Z"
   },
   {
    "duration": 26,
    "start_time": "2022-08-08T22:50:47.059Z"
   },
   {
    "duration": 33,
    "start_time": "2022-08-08T22:52:06.106Z"
   },
   {
    "duration": 26,
    "start_time": "2022-08-08T22:52:22.436Z"
   },
   {
    "duration": 15,
    "start_time": "2022-08-08T23:07:14.206Z"
   },
   {
    "duration": 43,
    "start_time": "2022-08-08T23:07:17.380Z"
   },
   {
    "duration": 24,
    "start_time": "2022-08-08T23:07:27.607Z"
   },
   {
    "duration": 5,
    "start_time": "2022-08-08T23:13:36.481Z"
   },
   {
    "duration": 19,
    "start_time": "2022-08-08T23:13:39.511Z"
   },
   {
    "duration": 5,
    "start_time": "2022-08-08T23:16:08.185Z"
   },
   {
    "duration": 23,
    "start_time": "2022-08-08T23:16:11.216Z"
   },
   {
    "duration": 5,
    "start_time": "2022-08-08T23:18:58.576Z"
   },
   {
    "duration": 23,
    "start_time": "2022-08-08T23:19:00.887Z"
   },
   {
    "duration": 11,
    "start_time": "2022-08-08T23:19:04.847Z"
   },
   {
    "duration": 15,
    "start_time": "2022-08-08T23:19:09.123Z"
   },
   {
    "duration": 62,
    "start_time": "2022-08-08T23:21:26.457Z"
   },
   {
    "duration": 61,
    "start_time": "2022-08-08T23:22:57.878Z"
   },
   {
    "duration": 12,
    "start_time": "2022-08-08T23:23:03.148Z"
   },
   {
    "duration": 20,
    "start_time": "2022-08-08T23:23:07.666Z"
   },
   {
    "duration": 5,
    "start_time": "2022-08-08T23:24:43.182Z"
   },
   {
    "duration": 51,
    "start_time": "2022-08-08T23:24:46.343Z"
   },
   {
    "duration": 4,
    "start_time": "2022-08-08T23:25:06.383Z"
   },
   {
    "duration": 70,
    "start_time": "2022-08-08T23:25:08.650Z"
   },
   {
    "duration": 4,
    "start_time": "2022-08-08T23:39:53.043Z"
   },
   {
    "duration": 33,
    "start_time": "2022-08-08T23:39:55.619Z"
   },
   {
    "duration": 4,
    "start_time": "2022-08-08T23:40:01.743Z"
   },
   {
    "duration": 50,
    "start_time": "2022-08-08T23:40:04.210Z"
   },
   {
    "duration": 4,
    "start_time": "2022-08-08T23:46:12.789Z"
   },
   {
    "duration": 26,
    "start_time": "2022-08-08T23:46:18.431Z"
   },
   {
    "duration": 13,
    "start_time": "2022-08-08T23:46:22.782Z"
   },
   {
    "duration": 12,
    "start_time": "2022-08-08T23:46:29.085Z"
   },
   {
    "duration": 27,
    "start_time": "2022-08-08T23:46:32.706Z"
   },
   {
    "duration": 29,
    "start_time": "2022-08-08T23:47:01.573Z"
   },
   {
    "duration": 11,
    "start_time": "2022-08-08T23:47:04.791Z"
   },
   {
    "duration": 4,
    "start_time": "2022-08-08T23:47:13.197Z"
   },
   {
    "duration": 399,
    "start_time": "2022-08-08T23:47:31.356Z"
   },
   {
    "duration": 156,
    "start_time": "2022-08-08T23:47:31.757Z"
   },
   {
    "duration": 126,
    "start_time": "2022-08-08T23:47:31.915Z"
   },
   {
    "duration": 10,
    "start_time": "2022-08-08T23:47:32.044Z"
   },
   {
    "duration": 47,
    "start_time": "2022-08-08T23:47:32.055Z"
   },
   {
    "duration": 4,
    "start_time": "2022-08-08T23:47:32.104Z"
   },
   {
    "duration": 22,
    "start_time": "2022-08-08T23:47:32.109Z"
   },
   {
    "duration": 10,
    "start_time": "2022-08-08T23:47:32.133Z"
   },
   {
    "duration": 27,
    "start_time": "2022-08-08T23:47:32.145Z"
   },
   {
    "duration": 28,
    "start_time": "2022-08-08T23:47:32.177Z"
   },
   {
    "duration": 28,
    "start_time": "2022-08-08T23:47:32.206Z"
   },
   {
    "duration": 90,
    "start_time": "2022-08-08T23:47:32.236Z"
   },
   {
    "duration": 73,
    "start_time": "2022-08-08T23:47:32.328Z"
   },
   {
    "duration": 51,
    "start_time": "2022-08-08T23:47:32.403Z"
   },
   {
    "duration": 60,
    "start_time": "2022-08-08T23:47:32.456Z"
   },
   {
    "duration": 3,
    "start_time": "2022-08-08T23:47:32.518Z"
   },
   {
    "duration": 25,
    "start_time": "2022-08-08T23:47:32.522Z"
   },
   {
    "duration": 55,
    "start_time": "2022-08-08T23:47:32.549Z"
   },
   {
    "duration": 21,
    "start_time": "2022-08-08T23:47:32.606Z"
   },
   {
    "duration": 26,
    "start_time": "2022-08-08T23:47:32.629Z"
   },
   {
    "duration": 3,
    "start_time": "2022-08-08T23:47:32.657Z"
   },
   {
    "duration": 47,
    "start_time": "2022-08-08T23:47:32.662Z"
   },
   {
    "duration": 17,
    "start_time": "2022-08-08T23:47:32.711Z"
   },
   {
    "duration": 14,
    "start_time": "2022-08-08T23:47:32.730Z"
   },
   {
    "duration": 15,
    "start_time": "2022-08-08T23:47:32.745Z"
   },
   {
    "duration": 46,
    "start_time": "2022-08-08T23:47:32.761Z"
   },
   {
    "duration": 16,
    "start_time": "2022-08-08T23:47:32.809Z"
   },
   {
    "duration": 31,
    "start_time": "2022-08-08T23:47:32.829Z"
   },
   {
    "duration": 11,
    "start_time": "2022-08-08T23:47:32.861Z"
   },
   {
    "duration": 26,
    "start_time": "2022-08-08T23:47:32.874Z"
   },
   {
    "duration": 4,
    "start_time": "2022-08-08T23:47:32.902Z"
   },
   {
    "duration": 35,
    "start_time": "2022-08-08T23:47:32.907Z"
   },
   {
    "duration": 11,
    "start_time": "2022-08-08T23:47:32.943Z"
   },
   {
    "duration": 22,
    "start_time": "2022-08-08T23:47:32.956Z"
   },
   {
    "duration": 16,
    "start_time": "2022-08-08T23:47:33.000Z"
   },
   {
    "duration": 3,
    "start_time": "2022-08-08T23:47:33.018Z"
   },
   {
    "duration": 8,
    "start_time": "2022-08-08T23:47:33.022Z"
   },
   {
    "duration": 4,
    "start_time": "2022-08-08T23:47:33.032Z"
   },
   {
    "duration": 5,
    "start_time": "2022-08-08T23:47:33.037Z"
   },
   {
    "duration": 12,
    "start_time": "2022-08-08T23:47:48.133Z"
   },
   {
    "duration": 11,
    "start_time": "2022-08-08T23:48:36.772Z"
   },
   {
    "duration": 12,
    "start_time": "2022-08-08T23:48:41.813Z"
   },
   {
    "duration": 23,
    "start_time": "2022-08-08T23:49:10.068Z"
   },
   {
    "duration": 14,
    "start_time": "2022-08-08T23:49:17.190Z"
   },
   {
    "duration": 17,
    "start_time": "2022-08-08T23:49:54.729Z"
   },
   {
    "duration": 17,
    "start_time": "2022-08-08T23:50:18.370Z"
   },
   {
    "duration": 18,
    "start_time": "2022-08-08T23:50:22.256Z"
   },
   {
    "duration": 27,
    "start_time": "2022-08-08T23:50:25.757Z"
   },
   {
    "duration": 18,
    "start_time": "2022-08-08T23:50:28.250Z"
   },
   {
    "duration": 27,
    "start_time": "2022-08-08T23:50:30.285Z"
   },
   {
    "duration": 19,
    "start_time": "2022-08-08T23:50:32.435Z"
   },
   {
    "duration": 29,
    "start_time": "2022-08-08T23:50:37.305Z"
   },
   {
    "duration": 392,
    "start_time": "2022-08-08T23:52:07.268Z"
   },
   {
    "duration": 145,
    "start_time": "2022-08-08T23:52:07.662Z"
   },
   {
    "duration": 108,
    "start_time": "2022-08-08T23:52:07.809Z"
   },
   {
    "duration": 9,
    "start_time": "2022-08-08T23:52:07.919Z"
   },
   {
    "duration": 27,
    "start_time": "2022-08-08T23:52:07.929Z"
   },
   {
    "duration": 2,
    "start_time": "2022-08-08T23:52:07.958Z"
   },
   {
    "duration": 12,
    "start_time": "2022-08-08T23:52:07.962Z"
   },
   {
    "duration": 24,
    "start_time": "2022-08-08T23:52:07.976Z"
   },
   {
    "duration": 20,
    "start_time": "2022-08-08T23:52:08.002Z"
   },
   {
    "duration": 16,
    "start_time": "2022-08-08T23:52:08.025Z"
   },
   {
    "duration": 19,
    "start_time": "2022-08-08T23:52:08.043Z"
   },
   {
    "duration": 84,
    "start_time": "2022-08-08T23:52:08.064Z"
   },
   {
    "duration": 70,
    "start_time": "2022-08-08T23:52:08.150Z"
   },
   {
    "duration": 48,
    "start_time": "2022-08-08T23:52:08.222Z"
   },
   {
    "duration": 53,
    "start_time": "2022-08-08T23:52:08.272Z"
   },
   {
    "duration": 3,
    "start_time": "2022-08-08T23:52:08.327Z"
   },
   {
    "duration": 23,
    "start_time": "2022-08-08T23:52:08.331Z"
   },
   {
    "duration": 52,
    "start_time": "2022-08-08T23:52:08.356Z"
   },
   {
    "duration": 24,
    "start_time": "2022-08-08T23:52:08.409Z"
   },
   {
    "duration": 30,
    "start_time": "2022-08-08T23:52:08.434Z"
   },
   {
    "duration": 9,
    "start_time": "2022-08-08T23:52:08.466Z"
   },
   {
    "duration": 38,
    "start_time": "2022-08-08T23:52:08.476Z"
   },
   {
    "duration": 13,
    "start_time": "2022-08-08T23:52:08.516Z"
   },
   {
    "duration": 14,
    "start_time": "2022-08-08T23:52:08.531Z"
   },
   {
    "duration": 12,
    "start_time": "2022-08-08T23:52:08.547Z"
   },
   {
    "duration": 43,
    "start_time": "2022-08-08T23:52:08.561Z"
   },
   {
    "duration": 14,
    "start_time": "2022-08-08T23:52:08.606Z"
   },
   {
    "duration": 24,
    "start_time": "2022-08-08T23:52:08.623Z"
   },
   {
    "duration": 12,
    "start_time": "2022-08-08T23:52:08.649Z"
   },
   {
    "duration": 40,
    "start_time": "2022-08-08T23:52:08.663Z"
   },
   {
    "duration": 4,
    "start_time": "2022-08-08T23:52:08.705Z"
   },
   {
    "duration": 39,
    "start_time": "2022-08-08T23:52:08.710Z"
   },
   {
    "duration": 17,
    "start_time": "2022-08-08T23:52:08.750Z"
   },
   {
    "duration": 34,
    "start_time": "2022-08-08T23:52:08.768Z"
   },
   {
    "duration": 16,
    "start_time": "2022-08-08T23:52:08.804Z"
   },
   {
    "duration": 2,
    "start_time": "2022-08-08T23:52:08.822Z"
   },
   {
    "duration": 5,
    "start_time": "2022-08-08T23:52:08.826Z"
   },
   {
    "duration": 6,
    "start_time": "2022-08-08T23:52:08.832Z"
   },
   {
    "duration": 4,
    "start_time": "2022-08-08T23:52:08.840Z"
   },
   {
    "duration": 4,
    "start_time": "2022-08-08T23:55:24.440Z"
   },
   {
    "duration": 91,
    "start_time": "2022-08-08T23:55:27.258Z"
   },
   {
    "duration": 4,
    "start_time": "2022-08-08T23:55:38.848Z"
   },
   {
    "duration": 28,
    "start_time": "2022-08-08T23:55:40.572Z"
   },
   {
    "duration": 8,
    "start_time": "2022-08-09T00:00:51.043Z"
   },
   {
    "duration": 5,
    "start_time": "2022-08-09T00:01:28.350Z"
   },
   {
    "duration": 4,
    "start_time": "2022-08-09T00:01:33.281Z"
   },
   {
    "duration": 12,
    "start_time": "2022-08-09T00:04:17.095Z"
   },
   {
    "duration": 9,
    "start_time": "2022-08-09T00:04:30.060Z"
   },
   {
    "duration": 7,
    "start_time": "2022-08-09T00:06:17.541Z"
   },
   {
    "duration": 356,
    "start_time": "2022-08-09T00:07:19.057Z"
   },
   {
    "duration": 173,
    "start_time": "2022-08-09T00:07:19.415Z"
   },
   {
    "duration": 130,
    "start_time": "2022-08-09T00:07:19.589Z"
   },
   {
    "duration": 10,
    "start_time": "2022-08-09T00:07:19.720Z"
   },
   {
    "duration": 40,
    "start_time": "2022-08-09T00:07:19.732Z"
   },
   {
    "duration": 21,
    "start_time": "2022-08-09T00:07:19.774Z"
   },
   {
    "duration": 27,
    "start_time": "2022-08-09T00:07:19.796Z"
   },
   {
    "duration": 22,
    "start_time": "2022-08-09T00:07:19.824Z"
   },
   {
    "duration": 41,
    "start_time": "2022-08-09T00:07:19.849Z"
   },
   {
    "duration": 25,
    "start_time": "2022-08-09T00:07:19.892Z"
   },
   {
    "duration": 41,
    "start_time": "2022-08-09T00:07:19.919Z"
   },
   {
    "duration": 74,
    "start_time": "2022-08-09T00:07:19.962Z"
   },
   {
    "duration": 81,
    "start_time": "2022-08-09T00:07:20.039Z"
   },
   {
    "duration": 60,
    "start_time": "2022-08-09T00:07:20.125Z"
   },
   {
    "duration": 45,
    "start_time": "2022-08-09T00:07:20.200Z"
   },
   {
    "duration": 3,
    "start_time": "2022-08-09T00:07:20.246Z"
   },
   {
    "duration": 24,
    "start_time": "2022-08-09T00:07:20.251Z"
   },
   {
    "duration": 58,
    "start_time": "2022-08-09T00:07:20.276Z"
   },
   {
    "duration": 19,
    "start_time": "2022-08-09T00:07:20.335Z"
   },
   {
    "duration": 30,
    "start_time": "2022-08-09T00:07:20.356Z"
   },
   {
    "duration": 4,
    "start_time": "2022-08-09T00:07:20.400Z"
   },
   {
    "duration": 38,
    "start_time": "2022-08-09T00:07:20.405Z"
   },
   {
    "duration": 19,
    "start_time": "2022-08-09T00:07:20.445Z"
   },
   {
    "duration": 21,
    "start_time": "2022-08-09T00:07:20.465Z"
   },
   {
    "duration": 20,
    "start_time": "2022-08-09T00:07:20.488Z"
   },
   {
    "duration": 13,
    "start_time": "2022-08-09T00:07:20.510Z"
   },
   {
    "duration": 17,
    "start_time": "2022-08-09T00:07:20.525Z"
   },
   {
    "duration": 20,
    "start_time": "2022-08-09T00:07:20.543Z"
   },
   {
    "duration": 13,
    "start_time": "2022-08-09T00:07:20.565Z"
   },
   {
    "duration": 26,
    "start_time": "2022-08-09T00:07:20.579Z"
   },
   {
    "duration": 9,
    "start_time": "2022-08-09T00:07:20.607Z"
   },
   {
    "duration": 49,
    "start_time": "2022-08-09T00:07:20.618Z"
   },
   {
    "duration": 16,
    "start_time": "2022-08-09T00:07:20.669Z"
   },
   {
    "duration": 29,
    "start_time": "2022-08-09T00:07:20.686Z"
   },
   {
    "duration": 15,
    "start_time": "2022-08-09T00:07:20.716Z"
   },
   {
    "duration": 16,
    "start_time": "2022-08-09T00:07:20.732Z"
   },
   {
    "duration": 8,
    "start_time": "2022-08-09T00:07:20.750Z"
   },
   {
    "duration": 19,
    "start_time": "2022-08-09T00:07:20.759Z"
   },
   {
    "duration": 20,
    "start_time": "2022-08-09T00:07:20.780Z"
   },
   {
    "duration": 445,
    "start_time": "2022-08-09T09:54:18.902Z"
   },
   {
    "duration": 479,
    "start_time": "2022-08-09T09:54:19.350Z"
   },
   {
    "duration": 151,
    "start_time": "2022-08-09T09:54:19.832Z"
   },
   {
    "duration": 12,
    "start_time": "2022-08-09T09:54:19.986Z"
   },
   {
    "duration": 43,
    "start_time": "2022-08-09T09:54:20.000Z"
   },
   {
    "duration": 4,
    "start_time": "2022-08-09T09:54:20.045Z"
   },
   {
    "duration": 15,
    "start_time": "2022-08-09T09:54:20.052Z"
   },
   {
    "duration": 22,
    "start_time": "2022-08-09T09:54:20.070Z"
   },
   {
    "duration": 31,
    "start_time": "2022-08-09T09:54:20.094Z"
   },
   {
    "duration": 24,
    "start_time": "2022-08-09T09:54:20.131Z"
   },
   {
    "duration": 39,
    "start_time": "2022-08-09T09:54:20.156Z"
   },
   {
    "duration": 74,
    "start_time": "2022-08-09T09:54:20.197Z"
   },
   {
    "duration": 89,
    "start_time": "2022-08-09T09:54:20.273Z"
   },
   {
    "duration": 75,
    "start_time": "2022-08-09T09:54:20.364Z"
   },
   {
    "duration": 56,
    "start_time": "2022-08-09T09:54:20.441Z"
   },
   {
    "duration": 3,
    "start_time": "2022-08-09T09:54:20.499Z"
   },
   {
    "duration": 33,
    "start_time": "2022-08-09T09:54:20.503Z"
   },
   {
    "duration": 69,
    "start_time": "2022-08-09T09:54:20.538Z"
   },
   {
    "duration": 24,
    "start_time": "2022-08-09T09:54:20.609Z"
   },
   {
    "duration": 31,
    "start_time": "2022-08-09T09:54:20.635Z"
   },
   {
    "duration": 23,
    "start_time": "2022-08-09T09:54:20.668Z"
   },
   {
    "duration": 21,
    "start_time": "2022-08-09T09:54:20.693Z"
   },
   {
    "duration": 16,
    "start_time": "2022-08-09T09:54:20.715Z"
   },
   {
    "duration": 15,
    "start_time": "2022-08-09T09:54:20.733Z"
   },
   {
    "duration": 42,
    "start_time": "2022-08-09T09:54:20.750Z"
   },
   {
    "duration": 18,
    "start_time": "2022-08-09T09:54:20.794Z"
   },
   {
    "duration": 15,
    "start_time": "2022-08-09T09:54:20.814Z"
   },
   {
    "duration": 27,
    "start_time": "2022-08-09T09:54:20.833Z"
   },
   {
    "duration": 38,
    "start_time": "2022-08-09T09:54:20.862Z"
   },
   {
    "duration": 10,
    "start_time": "2022-08-09T09:54:20.902Z"
   },
   {
    "duration": 6,
    "start_time": "2022-08-09T09:54:20.914Z"
   },
   {
    "duration": 44,
    "start_time": "2022-08-09T09:54:20.922Z"
   },
   {
    "duration": 44,
    "start_time": "2022-08-09T09:54:20.968Z"
   },
   {
    "duration": 29,
    "start_time": "2022-08-09T09:54:21.014Z"
   },
   {
    "duration": 19,
    "start_time": "2022-08-09T09:54:21.046Z"
   },
   {
    "duration": 11,
    "start_time": "2022-08-09T09:54:21.092Z"
   },
   {
    "duration": 8,
    "start_time": "2022-08-09T09:54:21.105Z"
   },
   {
    "duration": 9,
    "start_time": "2022-08-09T09:54:21.115Z"
   },
   {
    "duration": 5,
    "start_time": "2022-08-09T09:54:21.126Z"
   },
   {
    "duration": 16,
    "start_time": "2022-08-09T09:58:12.214Z"
   },
   {
    "duration": 4,
    "start_time": "2022-08-09T09:58:17.932Z"
   },
   {
    "duration": 33,
    "start_time": "2022-08-09T10:04:32.896Z"
   },
   {
    "duration": 34,
    "start_time": "2022-08-09T10:05:45.248Z"
   },
   {
    "duration": 102,
    "start_time": "2022-08-09T10:07:43.659Z"
   },
   {
    "duration": 46,
    "start_time": "2022-08-10T02:39:24.756Z"
   },
   {
    "duration": 403,
    "start_time": "2022-08-10T02:39:37.803Z"
   },
   {
    "duration": 217,
    "start_time": "2022-08-10T02:39:38.208Z"
   },
   {
    "duration": 122,
    "start_time": "2022-08-10T02:39:38.426Z"
   },
   {
    "duration": 10,
    "start_time": "2022-08-10T02:39:38.551Z"
   },
   {
    "duration": 33,
    "start_time": "2022-08-10T02:39:38.562Z"
   },
   {
    "duration": 4,
    "start_time": "2022-08-10T02:39:38.597Z"
   },
   {
    "duration": 16,
    "start_time": "2022-08-10T02:39:38.602Z"
   },
   {
    "duration": 5,
    "start_time": "2022-08-10T02:39:38.620Z"
   },
   {
    "duration": 24,
    "start_time": "2022-08-10T02:39:38.627Z"
   },
   {
    "duration": 43,
    "start_time": "2022-08-10T02:39:38.655Z"
   },
   {
    "duration": 21,
    "start_time": "2022-08-10T02:39:38.699Z"
   },
   {
    "duration": 67,
    "start_time": "2022-08-10T02:39:38.722Z"
   },
   {
    "duration": 62,
    "start_time": "2022-08-10T02:39:38.790Z"
   },
   {
    "duration": 64,
    "start_time": "2022-08-10T02:39:38.854Z"
   },
   {
    "duration": 43,
    "start_time": "2022-08-10T02:39:38.920Z"
   },
   {
    "duration": 2,
    "start_time": "2022-08-10T02:39:38.966Z"
   },
   {
    "duration": 43,
    "start_time": "2022-08-10T02:39:38.970Z"
   },
   {
    "duration": 46,
    "start_time": "2022-08-10T02:39:39.014Z"
   },
   {
    "duration": 54,
    "start_time": "2022-08-10T02:39:39.062Z"
   },
   {
    "duration": 0,
    "start_time": "2022-08-10T02:39:39.117Z"
   },
   {
    "duration": 0,
    "start_time": "2022-08-10T02:39:39.118Z"
   },
   {
    "duration": 0,
    "start_time": "2022-08-10T02:39:39.119Z"
   },
   {
    "duration": 0,
    "start_time": "2022-08-10T02:39:39.120Z"
   },
   {
    "duration": 0,
    "start_time": "2022-08-10T02:39:39.122Z"
   },
   {
    "duration": 0,
    "start_time": "2022-08-10T02:39:39.123Z"
   },
   {
    "duration": 0,
    "start_time": "2022-08-10T02:39:39.124Z"
   },
   {
    "duration": 0,
    "start_time": "2022-08-10T02:39:39.124Z"
   },
   {
    "duration": 0,
    "start_time": "2022-08-10T02:39:39.125Z"
   },
   {
    "duration": 0,
    "start_time": "2022-08-10T02:39:39.126Z"
   },
   {
    "duration": 0,
    "start_time": "2022-08-10T02:39:39.128Z"
   },
   {
    "duration": 0,
    "start_time": "2022-08-10T02:39:39.129Z"
   },
   {
    "duration": 0,
    "start_time": "2022-08-10T02:39:39.130Z"
   },
   {
    "duration": 0,
    "start_time": "2022-08-10T02:39:39.131Z"
   },
   {
    "duration": 0,
    "start_time": "2022-08-10T02:39:39.132Z"
   },
   {
    "duration": 0,
    "start_time": "2022-08-10T02:39:39.133Z"
   },
   {
    "duration": 0,
    "start_time": "2022-08-10T02:39:39.134Z"
   },
   {
    "duration": 0,
    "start_time": "2022-08-10T02:39:39.135Z"
   },
   {
    "duration": 0,
    "start_time": "2022-08-10T02:39:39.136Z"
   },
   {
    "duration": 0,
    "start_time": "2022-08-10T02:39:39.137Z"
   },
   {
    "duration": 420,
    "start_time": "2022-08-10T02:41:31.469Z"
   },
   {
    "duration": 152,
    "start_time": "2022-08-10T02:41:31.891Z"
   },
   {
    "duration": 134,
    "start_time": "2022-08-10T02:41:32.045Z"
   },
   {
    "duration": 13,
    "start_time": "2022-08-10T02:41:32.181Z"
   },
   {
    "duration": 37,
    "start_time": "2022-08-10T02:41:32.196Z"
   },
   {
    "duration": 18,
    "start_time": "2022-08-10T02:41:32.235Z"
   },
   {
    "duration": 30,
    "start_time": "2022-08-10T02:41:32.255Z"
   },
   {
    "duration": 11,
    "start_time": "2022-08-10T02:41:32.286Z"
   },
   {
    "duration": 29,
    "start_time": "2022-08-10T02:41:32.299Z"
   },
   {
    "duration": 28,
    "start_time": "2022-08-10T02:41:32.331Z"
   },
   {
    "duration": 31,
    "start_time": "2022-08-10T02:41:32.361Z"
   },
   {
    "duration": 60,
    "start_time": "2022-08-10T02:41:32.393Z"
   },
   {
    "duration": 70,
    "start_time": "2022-08-10T02:41:32.455Z"
   },
   {
    "duration": 51,
    "start_time": "2022-08-10T02:41:32.527Z"
   },
   {
    "duration": 45,
    "start_time": "2022-08-10T02:41:32.586Z"
   },
   {
    "duration": 3,
    "start_time": "2022-08-10T02:41:32.632Z"
   },
   {
    "duration": 35,
    "start_time": "2022-08-10T02:41:32.636Z"
   },
   {
    "duration": 53,
    "start_time": "2022-08-10T02:41:32.673Z"
   },
   {
    "duration": 22,
    "start_time": "2022-08-10T02:41:32.727Z"
   },
   {
    "duration": 45,
    "start_time": "2022-08-10T02:41:32.750Z"
   },
   {
    "duration": 3,
    "start_time": "2022-08-10T02:41:32.797Z"
   },
   {
    "duration": 34,
    "start_time": "2022-08-10T02:41:32.802Z"
   },
   {
    "duration": 14,
    "start_time": "2022-08-10T02:41:32.837Z"
   },
   {
    "duration": 12,
    "start_time": "2022-08-10T02:41:32.853Z"
   },
   {
    "duration": 22,
    "start_time": "2022-08-10T02:41:32.866Z"
   },
   {
    "duration": 14,
    "start_time": "2022-08-10T02:41:32.890Z"
   },
   {
    "duration": 12,
    "start_time": "2022-08-10T02:41:32.906Z"
   },
   {
    "duration": 68,
    "start_time": "2022-08-10T02:41:32.921Z"
   },
   {
    "duration": 12,
    "start_time": "2022-08-10T02:41:32.991Z"
   },
   {
    "duration": 13,
    "start_time": "2022-08-10T02:41:33.004Z"
   },
   {
    "duration": 11,
    "start_time": "2022-08-10T02:41:33.019Z"
   },
   {
    "duration": 50,
    "start_time": "2022-08-10T02:41:33.031Z"
   },
   {
    "duration": 16,
    "start_time": "2022-08-10T02:41:33.083Z"
   },
   {
    "duration": 23,
    "start_time": "2022-08-10T02:41:33.101Z"
   },
   {
    "duration": 15,
    "start_time": "2022-08-10T02:41:33.125Z"
   },
   {
    "duration": 19,
    "start_time": "2022-08-10T02:41:33.141Z"
   },
   {
    "duration": 9,
    "start_time": "2022-08-10T02:41:33.162Z"
   },
   {
    "duration": 7,
    "start_time": "2022-08-10T02:41:33.187Z"
   },
   {
    "duration": 7,
    "start_time": "2022-08-10T02:41:33.195Z"
   },
   {
    "duration": 27,
    "start_time": "2022-08-10T02:46:05.820Z"
   },
   {
    "duration": 28,
    "start_time": "2022-08-10T02:46:31.052Z"
   },
   {
    "duration": 2,
    "start_time": "2022-08-10T03:00:14.373Z"
   },
   {
    "duration": 168,
    "start_time": "2022-08-10T03:00:14.377Z"
   },
   {
    "duration": 125,
    "start_time": "2022-08-10T03:00:14.547Z"
   },
   {
    "duration": 15,
    "start_time": "2022-08-10T03:00:14.673Z"
   },
   {
    "duration": 31,
    "start_time": "2022-08-10T03:00:14.690Z"
   },
   {
    "duration": 3,
    "start_time": "2022-08-10T03:00:14.722Z"
   },
   {
    "duration": 12,
    "start_time": "2022-08-10T03:00:14.727Z"
   },
   {
    "duration": 4,
    "start_time": "2022-08-10T03:00:14.741Z"
   },
   {
    "duration": 40,
    "start_time": "2022-08-10T03:00:14.747Z"
   },
   {
    "duration": 18,
    "start_time": "2022-08-10T03:00:14.789Z"
   },
   {
    "duration": 23,
    "start_time": "2022-08-10T03:00:14.810Z"
   },
   {
    "duration": 74,
    "start_time": "2022-08-10T03:00:14.835Z"
   },
   {
    "duration": 59,
    "start_time": "2022-08-10T03:00:14.910Z"
   },
   {
    "duration": 64,
    "start_time": "2022-08-10T03:00:14.971Z"
   },
   {
    "duration": 58,
    "start_time": "2022-08-10T03:00:15.036Z"
   },
   {
    "duration": 3,
    "start_time": "2022-08-10T03:00:15.095Z"
   },
   {
    "duration": 31,
    "start_time": "2022-08-10T03:00:15.099Z"
   },
   {
    "duration": 56,
    "start_time": "2022-08-10T03:00:15.132Z"
   },
   {
    "duration": 23,
    "start_time": "2022-08-10T03:00:15.190Z"
   },
   {
    "duration": 30,
    "start_time": "2022-08-10T03:00:15.215Z"
   },
   {
    "duration": 3,
    "start_time": "2022-08-10T03:00:15.247Z"
   },
   {
    "duration": 42,
    "start_time": "2022-08-10T03:00:15.252Z"
   },
   {
    "duration": 13,
    "start_time": "2022-08-10T03:00:15.295Z"
   },
   {
    "duration": 13,
    "start_time": "2022-08-10T03:00:15.310Z"
   },
   {
    "duration": 12,
    "start_time": "2022-08-10T03:00:15.324Z"
   },
   {
    "duration": 19,
    "start_time": "2022-08-10T03:00:15.338Z"
   },
   {
    "duration": 36,
    "start_time": "2022-08-10T03:00:15.359Z"
   },
   {
    "duration": 27,
    "start_time": "2022-08-10T03:00:15.396Z"
   },
   {
    "duration": 10,
    "start_time": "2022-08-10T03:00:15.426Z"
   },
   {
    "duration": 30,
    "start_time": "2022-08-10T03:00:15.437Z"
   },
   {
    "duration": 6,
    "start_time": "2022-08-10T03:00:15.469Z"
   },
   {
    "duration": 45,
    "start_time": "2022-08-10T03:00:15.477Z"
   },
   {
    "duration": 16,
    "start_time": "2022-08-10T03:00:15.524Z"
   },
   {
    "duration": 25,
    "start_time": "2022-08-10T03:00:15.541Z"
   },
   {
    "duration": 30,
    "start_time": "2022-08-10T03:00:15.568Z"
   },
   {
    "duration": 9,
    "start_time": "2022-08-10T03:00:15.600Z"
   },
   {
    "duration": 5,
    "start_time": "2022-08-10T03:00:15.610Z"
   },
   {
    "duration": 15,
    "start_time": "2022-08-10T03:00:15.616Z"
   },
   {
    "duration": 11,
    "start_time": "2022-08-10T03:00:15.632Z"
   },
   {
    "duration": 31,
    "start_time": "2022-08-10T03:00:30.428Z"
   },
   {
    "duration": 22,
    "start_time": "2022-08-10T03:05:40.630Z"
   },
   {
    "duration": 20,
    "start_time": "2022-08-10T03:06:44.977Z"
   },
   {
    "duration": 20,
    "start_time": "2022-08-10T03:06:51.562Z"
   },
   {
    "duration": 20,
    "start_time": "2022-08-10T03:06:58.793Z"
   },
   {
    "duration": 22,
    "start_time": "2022-08-10T03:07:07.837Z"
   },
   {
    "duration": 20,
    "start_time": "2022-08-10T03:07:14.792Z"
   },
   {
    "duration": 21,
    "start_time": "2022-08-10T03:07:19.440Z"
   },
   {
    "duration": 25,
    "start_time": "2022-08-10T03:07:25.991Z"
   },
   {
    "duration": 3,
    "start_time": "2022-08-10T03:07:39.812Z"
   },
   {
    "duration": 155,
    "start_time": "2022-08-10T03:07:39.817Z"
   },
   {
    "duration": 135,
    "start_time": "2022-08-10T03:07:39.974Z"
   },
   {
    "duration": 11,
    "start_time": "2022-08-10T03:07:40.111Z"
   },
   {
    "duration": 34,
    "start_time": "2022-08-10T03:07:40.124Z"
   },
   {
    "duration": 3,
    "start_time": "2022-08-10T03:07:40.160Z"
   },
   {
    "duration": 8,
    "start_time": "2022-08-10T03:07:40.186Z"
   },
   {
    "duration": 7,
    "start_time": "2022-08-10T03:07:40.197Z"
   },
   {
    "duration": 36,
    "start_time": "2022-08-10T03:07:40.206Z"
   },
   {
    "duration": 18,
    "start_time": "2022-08-10T03:07:40.244Z"
   },
   {
    "duration": 43,
    "start_time": "2022-08-10T03:07:40.265Z"
   },
   {
    "duration": 61,
    "start_time": "2022-08-10T03:07:40.311Z"
   },
   {
    "duration": 63,
    "start_time": "2022-08-10T03:07:40.374Z"
   },
   {
    "duration": 56,
    "start_time": "2022-08-10T03:07:40.439Z"
   },
   {
    "duration": 47,
    "start_time": "2022-08-10T03:07:40.497Z"
   },
   {
    "duration": 3,
    "start_time": "2022-08-10T03:07:40.546Z"
   },
   {
    "duration": 42,
    "start_time": "2022-08-10T03:07:40.550Z"
   },
   {
    "duration": 46,
    "start_time": "2022-08-10T03:07:40.594Z"
   },
   {
    "duration": 20,
    "start_time": "2022-08-10T03:07:40.642Z"
   },
   {
    "duration": 46,
    "start_time": "2022-08-10T03:07:40.664Z"
   },
   {
    "duration": 3,
    "start_time": "2022-08-10T03:07:40.712Z"
   },
   {
    "duration": 17,
    "start_time": "2022-08-10T03:07:40.716Z"
   },
   {
    "duration": 13,
    "start_time": "2022-08-10T03:07:40.735Z"
   },
   {
    "duration": 38,
    "start_time": "2022-08-10T03:07:40.749Z"
   },
   {
    "duration": 21,
    "start_time": "2022-08-10T03:07:40.790Z"
   },
   {
    "duration": 17,
    "start_time": "2022-08-10T03:07:40.813Z"
   },
   {
    "duration": 14,
    "start_time": "2022-08-10T03:07:40.831Z"
   },
   {
    "duration": 58,
    "start_time": "2022-08-10T03:07:40.846Z"
   },
   {
    "duration": 9,
    "start_time": "2022-08-10T03:07:40.907Z"
   },
   {
    "duration": 9,
    "start_time": "2022-08-10T03:07:40.918Z"
   },
   {
    "duration": 4,
    "start_time": "2022-08-10T03:07:40.929Z"
   },
   {
    "duration": 30,
    "start_time": "2022-08-10T03:07:40.935Z"
   },
   {
    "duration": 35,
    "start_time": "2022-08-10T03:07:40.967Z"
   },
   {
    "duration": 23,
    "start_time": "2022-08-10T03:07:41.004Z"
   },
   {
    "duration": 15,
    "start_time": "2022-08-10T03:07:41.029Z"
   },
   {
    "duration": 10,
    "start_time": "2022-08-10T03:07:41.045Z"
   },
   {
    "duration": 5,
    "start_time": "2022-08-10T03:07:41.086Z"
   },
   {
    "duration": 9,
    "start_time": "2022-08-10T03:07:41.093Z"
   },
   {
    "duration": 8,
    "start_time": "2022-08-10T03:07:41.103Z"
   },
   {
    "duration": 8,
    "start_time": "2022-08-10T03:09:01.199Z"
   },
   {
    "duration": 510,
    "start_time": "2022-08-10T09:06:35.471Z"
   },
   {
    "duration": 599,
    "start_time": "2022-08-10T09:06:35.983Z"
   },
   {
    "duration": 207,
    "start_time": "2022-08-10T09:06:36.584Z"
   },
   {
    "duration": 16,
    "start_time": "2022-08-10T09:06:36.797Z"
   },
   {
    "duration": 97,
    "start_time": "2022-08-10T09:06:36.815Z"
   },
   {
    "duration": 37,
    "start_time": "2022-08-10T09:06:36.914Z"
   },
   {
    "duration": 25,
    "start_time": "2022-08-10T09:06:36.954Z"
   },
   {
    "duration": 42,
    "start_time": "2022-08-10T09:06:36.982Z"
   },
   {
    "duration": 56,
    "start_time": "2022-08-10T09:06:37.029Z"
   },
   {
    "duration": 52,
    "start_time": "2022-08-10T09:06:37.089Z"
   },
   {
    "duration": 37,
    "start_time": "2022-08-10T09:06:37.143Z"
   },
   {
    "duration": 83,
    "start_time": "2022-08-10T09:06:37.182Z"
   },
   {
    "duration": 113,
    "start_time": "2022-08-10T09:06:37.266Z"
   },
   {
    "duration": 108,
    "start_time": "2022-08-10T09:06:37.381Z"
   },
   {
    "duration": 85,
    "start_time": "2022-08-10T09:06:37.493Z"
   },
   {
    "duration": 12,
    "start_time": "2022-08-10T09:06:37.581Z"
   },
   {
    "duration": 45,
    "start_time": "2022-08-10T09:06:37.596Z"
   },
   {
    "duration": 96,
    "start_time": "2022-08-10T09:06:37.644Z"
   },
   {
    "duration": 30,
    "start_time": "2022-08-10T09:06:37.742Z"
   },
   {
    "duration": 59,
    "start_time": "2022-08-10T09:06:37.775Z"
   },
   {
    "duration": 18,
    "start_time": "2022-08-10T09:06:37.838Z"
   },
   {
    "duration": 30,
    "start_time": "2022-08-10T09:06:37.858Z"
   },
   {
    "duration": 59,
    "start_time": "2022-08-10T09:06:37.890Z"
   },
   {
    "duration": 24,
    "start_time": "2022-08-10T09:06:37.951Z"
   },
   {
    "duration": 23,
    "start_time": "2022-08-10T09:06:37.977Z"
   },
   {
    "duration": 56,
    "start_time": "2022-08-10T09:06:38.002Z"
   },
   {
    "duration": 40,
    "start_time": "2022-08-10T09:06:38.061Z"
   },
   {
    "duration": 45,
    "start_time": "2022-08-10T09:06:38.104Z"
   },
   {
    "duration": 16,
    "start_time": "2022-08-10T09:06:38.151Z"
   },
   {
    "duration": 13,
    "start_time": "2022-08-10T09:06:38.170Z"
   },
   {
    "duration": 7,
    "start_time": "2022-08-10T09:06:38.185Z"
   },
   {
    "duration": 88,
    "start_time": "2022-08-10T09:06:38.201Z"
   },
   {
    "duration": 29,
    "start_time": "2022-08-10T09:06:38.290Z"
   },
   {
    "duration": 79,
    "start_time": "2022-08-10T09:06:38.321Z"
   },
   {
    "duration": 28,
    "start_time": "2022-08-10T09:06:38.402Z"
   },
   {
    "duration": 34,
    "start_time": "2022-08-10T09:06:38.432Z"
   },
   {
    "duration": 37,
    "start_time": "2022-08-10T09:06:38.468Z"
   },
   {
    "duration": 63,
    "start_time": "2022-08-10T09:06:38.509Z"
   },
   {
    "duration": 24,
    "start_time": "2022-08-10T09:06:38.575Z"
   }
  ],
  "colab": {
   "collapsed_sections": [
    "E0vqbgi9ay0H",
    "VUC88oWjTJw2",
    "atZAxtq4_Zcu"
   ],
   "name": "EmptyFinalProject.ipynb\"",
   "provenance": []
  },
  "kernelspec": {
   "display_name": "Python 3 (ipykernel)",
   "language": "python",
   "name": "python3"
  },
  "language_info": {
   "codemirror_mode": {
    "name": "ipython",
    "version": 3
   },
   "file_extension": ".py",
   "mimetype": "text/x-python",
   "name": "python",
   "nbconvert_exporter": "python",
   "pygments_lexer": "ipython3",
   "version": "3.9.5"
  },
  "toc": {
   "base_numbering": 1,
   "nav_menu": {},
   "number_sections": true,
   "sideBar": true,
   "skip_h1_title": true,
   "title_cell": "Table of Contents",
   "title_sidebar": "Contents",
   "toc_cell": false,
   "toc_position": {},
   "toc_section_display": true,
   "toc_window_display": false
  }
 },
 "nbformat": 4,
 "nbformat_minor": 4
}
